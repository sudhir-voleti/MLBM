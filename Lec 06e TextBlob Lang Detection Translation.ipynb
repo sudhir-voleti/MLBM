{
 "cells": [
  {
   "cell_type": "markdown",
   "metadata": {},
   "source": [
    "### Translation and Language Detection with TextBlob\n",
    "\n",
    "Python library TextBlob gives functionality to use [Google Translate API](https://cloud.google.com/translate/docs/). It supports translation and language detection.\n",
    "\n",
    "Let's import textblob module and get started."
   ]
  },
  {
   "cell_type": "code",
   "execution_count": 2,
   "metadata": {},
   "outputs": [
    {
     "name": "stdout",
     "output_type": "stream",
     "text": [
      "Collecting textblob\n",
      "  Downloading https://files.pythonhosted.org/packages/60/f0/1d9bfcc8ee6b83472ec571406bd0dd51c0e6330ff1a51b2d29861d389e85/textblob-0.15.3-py2.py3-none-any.whl (636kB)\n",
      "Requirement already satisfied: nltk>=3.1 in c:\\users\\31202\\appdata\\local\\continuum\\anaconda3\\lib\\site-packages (from textblob) (3.3)\n",
      "Requirement already satisfied: six in c:\\users\\31202\\appdata\\local\\continuum\\anaconda3\\lib\\site-packages (from nltk>=3.1->textblob) (1.13.0)\n",
      "Installing collected packages: textblob\n",
      "Successfully installed textblob-0.15.3\n"
     ]
    }
   ],
   "source": [
    "!pip install textblob"
   ]
  },
  {
   "cell_type": "code",
   "execution_count": 3,
   "metadata": {},
   "outputs": [],
   "source": [
    "from textblob import TextBlob"
   ]
  },
  {
   "cell_type": "markdown",
   "metadata": {},
   "source": [
    "Now let's create and print TextBlob in English, Hindi and Telugu."
   ]
  },
  {
   "cell_type": "code",
   "execution_count": 4,
   "metadata": {},
   "outputs": [],
   "source": [
    "en_blob = TextBlob(u\"Sushil Kumar was a star on display for India on Day 8 of competitions at the Commonwealth Games 2018 at Gold Coast as he claimed his third straight CWG gold. Rahul Aware also came to the party with a gold of his own as the Indian kitty saw the addition of a silver from Babita Kumari and a bronze medal from Rinku on the women's side. With more events lined up on Day 9, India would be all geared up for more success\")\n",
    "hi_blob = TextBlob(u'भारत के 15 वर्षीय निशानेबाज अनीष भानवाल ने शानदार प्रदर्शन करते हुए 21वें राष्ट्रमंडल खेलों में नौवें दिन शुक्रवार को पुरुषों की 25 मीटर रैपिड फायर पिस्टल स्पर्धा के फाइनल में स्वर्ण पदक जीता. इस स्पर्धा में सोना जीतने के साथ ही अनीष ने राष्ट्रमंडल खेलों का नया रिकॉर्ड भी बनाया. उन्होंने भारत की झोली में 16वां स्वर्ण पदक डाला.')\n",
    "te_blob = TextBlob(u'కామన్వెల్త్‌లో భారత్ పతకాలతో దూసుకెళ్తుంది. ఆస్ట్రేలియాలోని గోల్డ్‌‌కోస్ట్ వేదికగా జరుగుతోన్న 21 వ కామన్వెల్త్ క్రీడల్లో ఇండియన్ వెయిట్‌లిఫ్టర్ల రికార్డు స్థాయిలో పతకాలు సాధిస్తున్నారు. శనివారం ఇదే విభాగంలో రెండు స్వర్ణాలు గెలిచిన లిఫ్టర్లు, ఆదివారం కూడా మరో స్వర్ణాన్ని చేజిక్కించుకున్నారు. మహిళల 69 కిలోల విభాగంలో పూనమ్ యాదవ్ స్వర్ణం గెలుపొందింది.')"
   ]
  },
  {
   "cell_type": "code",
   "execution_count": 5,
   "metadata": {},
   "outputs": [
    {
     "name": "stdout",
     "output_type": "stream",
     "text": [
      "Sushil Kumar was a star on display for India on Day 8 of competitions at the Commonwealth Games 2018 at Gold Coast as he claimed his third straight CWG gold. Rahul Aware also came to the party with a gold of his own as the Indian kitty saw the addition of a silver from Babita Kumari and a bronze medal from Rinku on the women's side. With more events lined up on Day 9, India would be all geared up for more success\n"
     ]
    }
   ],
   "source": [
    "print(en_blob)"
   ]
  },
  {
   "cell_type": "code",
   "execution_count": 6,
   "metadata": {},
   "outputs": [
    {
     "name": "stdout",
     "output_type": "stream",
     "text": [
      "भारत के 15 वर्षीय निशानेबाज अनीष भानवाल ने शानदार प्रदर्शन करते हुए 21वें राष्ट्रमंडल खेलों में नौवें दिन शुक्रवार को पुरुषों की 25 मीटर रैपिड फायर पिस्टल स्पर्धा के फाइनल में स्वर्ण पदक जीता. इस स्पर्धा में सोना जीतने के साथ ही अनीष ने राष्ट्रमंडल खेलों का नया रिकॉर्ड भी बनाया. उन्होंने भारत की झोली में 16वां स्वर्ण पदक डाला.\n"
     ]
    }
   ],
   "source": [
    "print(hi_blob)"
   ]
  },
  {
   "cell_type": "code",
   "execution_count": 7,
   "metadata": {},
   "outputs": [
    {
     "name": "stdout",
     "output_type": "stream",
     "text": [
      "కామన్వెల్త్‌లో భారత్ పతకాలతో దూసుకెళ్తుంది. ఆస్ట్రేలియాలోని గోల్డ్‌‌కోస్ట్ వేదికగా జరుగుతోన్న 21 వ కామన్వెల్త్ క్రీడల్లో ఇండియన్ వెయిట్‌లిఫ్టర్ల రికార్డు స్థాయిలో పతకాలు సాధిస్తున్నారు. శనివారం ఇదే విభాగంలో రెండు స్వర్ణాలు గెలిచిన లిఫ్టర్లు, ఆదివారం కూడా మరో స్వర్ణాన్ని చేజిక్కించుకున్నారు. మహిళల 69 కిలోల విభాగంలో పూనమ్ యాదవ్ స్వర్ణం గెలుపొందింది.\n"
     ]
    }
   ],
   "source": [
    "print(te_blob)"
   ]
  },
  {
   "cell_type": "markdown",
   "metadata": {},
   "source": [
    "We can use translate () method for translating from one language to another language. Language codes can be found on this [link](https://cloud.google.com/translate/docs/languages)"
   ]
  },
  {
   "cell_type": "code",
   "execution_count": 8,
   "metadata": {},
   "outputs": [
    {
     "data": {
      "text/plain": [
       "TextBlob(\"India's 15-year-old shooter Anish Bhanwal, while performing brilliantly, won the gold medal in the final of the men's 25 meter rapid fire pistol event on Friday, the ninth day at the 21st Commonwealth Games. Along with winning gold in this event, Aneesh also set a new Commonwealth Games record. He added the 16th gold medal in India's bag.\")"
      ]
     },
     "execution_count": 8,
     "metadata": {},
     "output_type": "execute_result"
    }
   ],
   "source": [
    "# Hindi to English Translation\n",
    "hi_blob.translate(from_lang=\"hi\", to='en')"
   ]
  },
  {
   "cell_type": "code",
   "execution_count": 9,
   "metadata": {},
   "outputs": [
    {
     "data": {
      "text/plain": [
       "TextBlob(\"India wins medals in the Commonwealth Indian weightlifters have won medals at the 21st Commonwealth Games, being held at the Gold Coast in Australia. Lifters, who won two golds in the same category on Saturday, also took another gold on Sunday. Poonam Yadav won gold in the women's 69kg category.\")"
      ]
     },
     "execution_count": 9,
     "metadata": {},
     "output_type": "execute_result"
    }
   ],
   "source": [
    "# Telugu to English Translation\n",
    "te_blob.translate(from_lang=\"te\", to='en')"
   ]
  },
  {
   "cell_type": "code",
   "execution_count": 10,
   "metadata": {},
   "outputs": [
    {
     "data": {
      "text/plain": [
       "TextBlob(\"సుశీల్ కుమార్ తన మూడవ వరుస సిడబ్ల్యుజి స్వర్ణాన్ని సాధించడంతో గోల్డ్ కోస్ట్‌లో జరిగిన కామన్వెల్త్ గేమ్స్ 2018 లో పోటీల 8 వ రోజు భారతదేశానికి ప్రదర్శనలో ఉన్నాడు. భారతీయ కిట్టి బబితా కుమారి నుండి ఒక రజతం మరియు మహిళల వైపు రింకు నుండి కాంస్య పతకాన్ని చేర్చడంతో రాహుల్ అవేర్ కూడా తన సొంత బంగారంతో పార్టీకి వచ్చాడు. 9 వ రోజు మరిన్ని సంఘటనలు వరుసలో ఉండటంతో, భారతదేశం మరింత విజయవంతం కావడానికి సిద్ధంగా ఉంది\")"
      ]
     },
     "execution_count": 10,
     "metadata": {},
     "output_type": "execute_result"
    }
   ],
   "source": [
    "# English to Telugu Translation\n",
    "en_blob.translate(from_lang=\"en\", to='te')"
   ]
  },
  {
   "cell_type": "markdown",
   "metadata": {},
   "source": [
    "We can use detect_language() method to find the language. See the example below"
   ]
  },
  {
   "cell_type": "code",
   "execution_count": 11,
   "metadata": {},
   "outputs": [
    {
     "data": {
      "text/plain": [
       "'es'"
      ]
     },
     "execution_count": 11,
     "metadata": {},
     "output_type": "execute_result"
    }
   ],
   "source": [
    "unkown_blob = TextBlob(u\"¡Hola! Mi nombre es Ana. Tengo veinticinco años. Vivo en Miami, Florida con mi esposo y dos hijos. Tengo un hijo en kínder y una hija en primer grado. Ambos van a una escuela pública. Mi esposo es mecánico. Los fines de semana, él trabaja en un restaurante lavando platos. El restaurante usualmente tiene más clientes los fines de semana, entonces necesitan gente extra para lavar platos.\")\n",
    "unkown_blob.detect_language()"
   ]
  },
  {
   "cell_type": "markdown",
   "metadata": {},
   "source": [
    "As we can see from above output its spanish (ISO-639-1 Code for Spanish is 'es'). Let's translate this spanish text to english and see what does it mean."
   ]
  },
  {
   "cell_type": "code",
   "execution_count": 12,
   "metadata": {},
   "outputs": [
    {
     "data": {
      "text/plain": [
       "TextBlob(\"Hi! My name is Ana. I'm twenty-five years old. I live in Miami, Florida with my husband and two children. I have a son in kindergarten and a daughter in first grade. Both go to a public school. My husband is a mechanic. On weekends, he works in a restaurant washing dishes. The restaurant usually has more customers on weekends, so they need extra people to wash dishes.\")"
      ]
     },
     "execution_count": 12,
     "metadata": {},
     "output_type": "execute_result"
    }
   ],
   "source": [
    "unkown_blob.translate(to='en')"
   ]
  },
  {
   "cell_type": "markdown",
   "metadata": {},
   "source": [
    "#### Spell Check with TextBlob"
   ]
  },
  {
   "cell_type": "code",
   "execution_count": 14,
   "metadata": {},
   "outputs": [
    {
     "name": "stdout",
     "output_type": "stream",
     "text": [
      "Natural language is a central part of our day to day life, and it's so interesting to work on any problem related to languages.\n"
     ]
    }
   ],
   "source": [
    "data = \"Natural language is a cantral part of our day to day life, and it's so antresting to work on any problam related to langages.\"\n",
    " \n",
    "output = TextBlob(data).correct()\n",
    "print(output)"
   ]
  },
  {
   "cell_type": "code",
   "execution_count": null,
   "metadata": {},
   "outputs": [],
   "source": []
  }
 ],
 "metadata": {
  "kernelspec": {
   "display_name": "Python 3",
   "language": "python",
   "name": "python3"
  },
  "language_info": {
   "codemirror_mode": {
    "name": "ipython",
    "version": 3
   },
   "file_extension": ".py",
   "mimetype": "text/x-python",
   "name": "python",
   "nbconvert_exporter": "python",
   "pygments_lexer": "ipython3",
   "version": "3.7.1"
  }
 },
 "nbformat": 4,
 "nbformat_minor": 2
}
