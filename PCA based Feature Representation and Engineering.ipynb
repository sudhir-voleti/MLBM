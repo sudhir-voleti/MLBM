{
 "cells": [
  {
   "cell_type": "markdown",
   "metadata": {},
   "source": [
    "# Feature Engineering Demo with PCA\n",
    "\n",
    "Let me start this notebook with a quote from well-known CS researcher and Data Scientist Pedro Domingos' famous paper [A Few Useful Things to Know about Machine Learning](https://homes.cs.washington.edu/~pedrod/papers/cacm12.pdf).\n",
    "\n",
    "“At the end of the day, some machine learning projects succeed and some fail. What makes the difference? Easily the most important factor is the features used. If you have many independent features that each correlate well with the class, learning is easy. On the other hand, if the class is a very complex function of the features, you may not be able to learn it. Often, the raw data is not in a form that is amenable to learning, but you can construct features from it that are. This is typically where most of the effort in a machine learning project goes.” \n",
    "\n",
    "Here, I'll focus on a limited part - feature selection, derived from feature engineering of this quote. And my vehicle to engineer featuires into a new feature representation is Principal Components Analysis (PCA).\n",
    "\n",
    "P.S. Domingos is awesome. Sample some of his choice quotes [here](https://www.goodreads.com/work/quotes/44223286-the-master-algorithm-how-the-quest-for-the-ultimate-learning-machine-wi?page=4)."
   ]
  },
  {
   "cell_type": "code",
   "execution_count": 1,
   "metadata": {},
   "outputs": [],
   "source": [
    "# setup chunk\n",
    "from sklearn.datasets import fetch_openml\n",
    "from sklearn.decomposition import PCA\n",
    "from sklearn.preprocessing import StandardScaler\n",
    "from sklearn import metrics\n",
    "from sklearn.model_selection import train_test_split\n",
    "\n",
    "import pandas as pd   # for dataFrame ops\n",
    "import numpy as np    # for array ops\n",
    "import time  # to time some funcs\n",
    "\n",
    "# To plot pretty figures\n",
    "%matplotlib inline\n",
    "import matplotlib as mpl\n",
    "import matplotlib.pyplot as plt\n",
    "mpl.rc('axes', labelsize=14)\n",
    "mpl.rc('xtick', labelsize=12)\n",
    "mpl.rc('ytick', labelsize=12)"
   ]
  },
  {
   "cell_type": "markdown",
   "metadata": {},
   "source": [
    "This time we use a famous dataset that we'll import from openml.org using some funcs (just run the fetch code, we won't go into the details).\n",
    "\n",
    "### The MNIST dataset\n",
    "\n",
    "Chances are any data scientist worth his/her salt would have at some point come across the legendary MNIST handwritten digits database - a collection of 70,000 handwritten digits from various people of all ages all over the US from the late 90s.\n",
    "\n",
    "These digits are stored as images of size 28x28 *pixels* each. The import will take time, a minute plus perhaps given its large size.  \n",
    "\n",
    "Aim is to classify each image into what digit it has. Trivial for us humans but nontrivial for machines. \n",
    "\n",
    "Behold."
   ]
  },
  {
   "cell_type": "code",
   "execution_count": 7,
   "metadata": {},
   "outputs": [
    {
     "name": "stdout",
     "output_type": "stream",
     "text": [
      "MNIST import took:  30.355  secs\n",
      "\n",
      "\n"
     ]
    }
   ],
   "source": [
    "# time dataset import\n",
    "t1 = time.time()\n",
    "mnist = fetch_openml('mnist_784', version=1, cache=True)\n",
    "t2 = time.time()\n",
    "print(\"MNIST import took: \", round(t2-t1, 3), \" secs\")  # 47.2 secs!\n",
    "print(\"\\n\")"
   ]
  },
  {
   "cell_type": "code",
   "execution_count": 8,
   "metadata": {},
   "outputs": [
    {
     "name": "stdout",
     "output_type": "stream",
     "text": [
      "<class 'numpy.ndarray'>\n",
      "(70000, 784)\n"
     ]
    }
   ],
   "source": [
    "print(type(mnist.data))\n",
    "print(mnist.data.shape)  # features colm"
   ]
  },
  {
   "cell_type": "code",
   "execution_count": 9,
   "metadata": {},
   "outputs": [
    {
     "name": "stdout",
     "output_type": "stream",
     "text": [
      "**Author**: Yann LeCun, Corinna Cortes, Christopher J.C. Burges  \n",
      "**Source**: [MNIST Website](http://yann.lecun.com/exdb/mnist/) - Date unknown  \n",
      "**Please cite**:  \n",
      "\n",
      "The MNIST database of handwritten digits with 784 features, raw data available at: http://yann.lecun.com/exdb/mnist/. It can be split in a training set of the first 60,000 examples, and a test set of 10,000 examples  \n",
      "\n",
      "It is a subset of a larger set available from NIST. The digits have been size-normalized and centered in a fixed-size image. It is a good database for people who want to try learning techniques and pattern recognition methods on real-world data while spending minimal efforts on preprocessing and formatting. The original black and white (bilevel) images from NIST were size normalized to fit in a 20x20 pixel box while preserving their aspect ratio. The resulting images contain grey levels as a result of the anti-aliasing technique used by the normalization algorithm. the images were centered in a 28x28 image by computing the center of mass of the pixels, and translating the image so as to position this point at the center of the 28x28 field.  \n",
      "\n",
      "With some classification methods (particularly template-based methods, such as SVM and K-nearest neighbors), the error rate improves when the digits are centered by bounding box rather than center of mass. If you do this kind of pre-processing, you should report it in your publications. The MNIST database was constructed from NIST's NIST originally designated SD-3 as their training set and SD-1 as their test set. However, SD-3 is much cleaner and easier to recognize than SD-1. The reason for this can be found on the fact that SD-3 was collected among Census Bureau employees, while SD-1 was collected among high-school students. Drawing sensible conclusions from learning experiments requires that the result be independent of the choice of training set and test among the complete set of samples. Therefore it was necessary to build a new database by mixing NIST's datasets.  \n",
      "\n",
      "The MNIST training set is composed of 30,000 patterns from SD-3 and 30,000 patterns from SD-1. Our test set was composed of 5,000 patterns from SD-3 and 5,000 patterns from SD-1. The 60,000 pattern training set contained examples from approximately 250 writers. We made sure that the sets of writers of the training set and test set were disjoint. SD-1 contains 58,527 digit images written by 500 different writers. In contrast to SD-3, where blocks of data from each writer appeared in sequence, the data in SD-1 is scrambled. Writer identities for SD-1 is available and we used this information to unscramble the writers. We then split SD-1 in two: characters written by the first 250 writers went into our new training set. The remaining 250 writers were placed in our test set. Thus we had two sets with nearly 30,000 examples each. The new training set was completed with enough examples from SD-3, starting at pattern # 0, to make a full set of 60,000 training patterns. Similarly, the new test set was completed with SD-3 examples starting at pattern # 35,000 to make a full set with 60,000 test patterns. Only a subset of 10,000 test images (5,000 from SD-1 and 5,000 from SD-3) is available on this site. The full 60,000 sample training set is available.\n",
      "\n",
      "Downloaded from openml.org.\n",
      "--------------------\n",
      "\n",
      "Dataset dimns are:  (70000, 784)\n",
      "(70000,)\n",
      "--------------------\n",
      "\n"
     ]
    }
   ],
   "source": [
    "# explore dataset\n",
    "print(mnist.DESCR)  \n",
    "print(\"--------------------\\n\")\n",
    "print(\"Dataset dimns are: \", mnist.data.shape)   # data size dimns\n",
    "print(mnist.target.shape)  # labels colm\n",
    "print(\"--------------------\\n\")"
   ]
  },
  {
   "cell_type": "markdown",
   "metadata": {},
   "source": [
    "Since we know that the digits are images, can we know more? \n",
    "\n",
    "What kind of images are these? Can we view a few? \n",
    "\n",
    "Behold"
   ]
  },
  {
   "cell_type": "code",
   "execution_count": 10,
   "metadata": {},
   "outputs": [
    {
     "name": "stdout",
     "output_type": "stream",
     "text": [
      "28*28 =  784\n",
      "\n",
      "\n"
     ]
    },
    {
     "data": {
      "image/png": "[encoded data removed]",
      "text/plain": [
       "<Figure size 432x288 with 1 Axes>"
      ]
     },
     "metadata": {
      "needs_background": "light"
     },
     "output_type": "display_data"
    }
   ],
   "source": [
    "# examine image size in pixels\n",
    "X, y = mnist[\"data\"], mnist[\"target\"]\n",
    "print(\"28*28 = \", 28*28)   # 784. So each digit img is 28^2 pixels in size\n",
    "print(\"\\n\")\n",
    "\n",
    "# visualize a data point\n",
    "some_digit = X[0]   # picking the first digit to show\n",
    "some_digit_image = some_digit.reshape(28, 28)  # reshape pixel vector into 28x28\n",
    "plt.imshow(some_digit_image, \n",
    "           cmap = mpl.cm.binary,\n",
    "           interpolation=\"nearest\")\n",
    "plt.axis(\"off\")\n",
    "plt.show()"
   ]
  },
  {
   "cell_type": "markdown",
   "metadata": {},
   "source": [
    "Huh, what digit was that? Are all digits written like this? Would be good to see a few more, no?\n",
    "\n",
    "However, re-running the above code lines again and again is tiresome. \n",
    "\n",
    "So we follow an old programming principle: DRY for 'Don't repeat yourself'.\n",
    "\n",
    "And the way coders implement DRY is via *functions*. \n",
    "\n",
    "So below, I define a couple of funcs that I invoke in a loop and plot a few more digits. \n",
    "\n",
    "## Visually Inspecting the Data\n",
    "\n",
    "Behold."
   ]
  },
  {
   "cell_type": "code",
   "execution_count": 11,
   "metadata": {},
   "outputs": [
    {
     "data": {
      "image/png": "[encoded data removed]",
      "text/plain": [
       "<Figure size 648x648 with 1 Axes>"
      ]
     },
     "metadata": {
      "needs_background": "light"
     },
     "output_type": "display_data"
    }
   ],
   "source": [
    "# Wrapper func to plot digits in a matrix\n",
    "def plot_digits(instances, images_per_row=10, **options):\n",
    "    size = 28\n",
    "    images_per_row = min(len(instances), images_per_row)\n",
    "    images = [instance.reshape(size,size) for instance in instances]\n",
    "    n_rows = (len(instances) - 1) // images_per_row + 1\n",
    "    \n",
    "    row_images = []\n",
    "    n_empty = n_rows * images_per_row - len(instances)\n",
    "    images.append(np.zeros((size, size * n_empty)))\n",
    "    \n",
    "    for row in range(n_rows):\n",
    "        rimages = images[row * images_per_row : (row + 1) * images_per_row]\n",
    "        row_images.append(np.concatenate(rimages, axis=1))\n",
    "    image = np.concatenate(row_images, axis=0)\n",
    "    plt.imshow(image, cmap = mpl.cm.binary, **options)\n",
    "    plt.axis(\"off\")\n",
    "\n",
    "\n",
    "# now, finally, plot. whew.\n",
    "plt.figure(figsize=(9,9))\n",
    "example_images = np.r_[X[:12000:600], X[13000:30600:600], X[30600:60000:590]]\n",
    "plot_digits(example_images, images_per_row=10)\n",
    "plt.show()"
   ]
  },
  {
   "cell_type": "markdown",
   "metadata": {},
   "source": [
    "How many of these digits above can you correctly identify? How many might the machine identify correctly?\n",
    "\n",
    "Time now to get to the core classification task. Q now is, **what exactly in the data** will the classifier analyze and classify? \n",
    "\n",
    "The input Xs are huge arrays of 784 columns of pixel intensity values, after all. Here is where feature engg comes to the fore. \n",
    "\n",
    "Recall factor-an from MKTR. One of its explicit motivations was **dimensionality reduction** and **discovery of latent structure** amongst existing columns **as new variables** ('factors'). IOW, could PCA yield us a new set of features?\n",
    "\n",
    "## PCA for Feature Engg\n",
    "\n",
    "To test this, we transform the existing (and possibly sparse, from an informational POV) feature set into a **smaller, condensed, more meaningful set of features using PCA** in this case.\n",
    "\n",
    "Of course, to evaluate the accuracy, we must have a test sample of unseen data (by the machine) to test things on. For that I start as below with a **train-test-split** routine. "
   ]
  },
  {
   "cell_type": "code",
   "execution_count": 12,
   "metadata": {},
   "outputs": [
    {
     "name": "stdout",
     "output_type": "stream",
     "text": [
      "(60000, 784)\n",
      "\n",
      "\n",
      "(10000, 784)\n"
     ]
    }
   ],
   "source": [
    "# train-test-split into 60k:10k\n",
    "train_x, test_x, train_y, test_y = train_test_split(\n",
    "    mnist.data, mnist.target, test_size=1/7.0, random_state=0)\n",
    "\n",
    "print(train_x.shape)\n",
    "print(\"\\n\")\n",
    "print(test_x.shape)"
   ]
  },
  {
   "cell_type": "markdown",
   "metadata": {},
   "source": [
    "### Standardize Data Scale\n",
    "\n",
    "Since PCA yields a feature subspace that maximizes the variance along the axes, it makes sense to standardize the data, especially, if it was measured on different scales.\n",
    "\n",
    "Standardization of a dataset is a common requirement in many ML estimators: they might behave badly if the individual feature scales vary wildly. \n",
    "\n",
    "Below, I import the Standard Scaler that scales each colm as a z-score variable."
   ]
  },
  {
   "cell_type": "code",
   "execution_count": 13,
   "metadata": {},
   "outputs": [],
   "source": [
    "from sklearn.preprocessing import StandardScaler\n",
    "scaler = StandardScaler()  # instantiate scaler\n",
    "\n",
    "# Fit on training set only.\n",
    "scaler.fit(train_x)\n",
    "\n",
    "# Apply transform to both the training set and the test set.\n",
    "train_x = scaler.transform(train_x)\n",
    "test_x = scaler.transform(test_x)"
   ]
  },
  {
   "cell_type": "markdown",
   "metadata": {},
   "source": [
    "Aim below is to demo how feature engg such as dimensionality reduction can sometimes greatly speed-up ML techniques.\n",
    "\n",
    "## Getting re-engineered features from PCA\n",
    "\n",
    "Below, I demo how well ML *learns* patterns in data enough to ID digits accurately, using Logistic classification as an example ML estimator.\n",
    "\n",
    "Behold."
   ]
  },
  {
   "cell_type": "code",
   "execution_count": 14,
   "metadata": {},
   "outputs": [
    {
     "name": "stdout",
     "output_type": "stream",
     "text": [
      "PCA fitting on MNIST took:  9.82  secs.\n",
      "\n",
      "\n",
      "Min #compts required is:  327\n"
     ]
    }
   ],
   "source": [
    "# import and instantiate model\n",
    "from sklearn.decomposition import PCA\n",
    "pca = PCA(.95)  # find min #compts that capture 95% of variance\n",
    "t1 = time.time()\n",
    "pca.fit(train_x)\n",
    "print(\"PCA fitting on MNIST took: \", round(time.time()-t1, 2), \" secs.\")  # 8.6 secs\n",
    "print(\"\\n\")\n",
    "print(\"Min #compts required is: \", pca.n_components_)  # how many compts meet above criterion? # 327\n",
    "\n",
    "# Apply the mapping (transform) to both the training set and the test set.\n",
    "train_x = pca.transform(train_x)\n",
    "test_x = pca.transform(test_x)"
   ]
  },
  {
   "cell_type": "markdown",
   "metadata": {},
   "source": [
    "There! Seems just 327 out of 784 features (colms) are enough to cpature 95% of variance explained. Whuddathunkit, eh?\n",
    "\n",
    "Now I invoke the Logistic Regression or LogReg model for the classification task proper. \n",
    "\n",
    "LogReg model below learns the relationship between x (digits) and y (labels).\n",
    "\n",
    "Follows usual path of instantiation, fit, transform and predict.\n",
    "\n",
    "Caution: When running code below, it's possible the default number of iterations *max)iter* parm might be breached. If so, raise the limit some 5x odd (as I did below). "
   ]
  },
  {
   "cell_type": "code",
   "execution_count": 18,
   "metadata": {},
   "outputs": [
    {
     "name": "stdout",
     "output_type": "stream",
     "text": [
      "LogReg fitting on MNIST took:  61.62  secs.\n"
     ]
    },
    {
     "name": "stderr",
     "output_type": "stream",
     "text": [
      "C:\\Users\\20052\\AppData\\Local\\Continuum\\anaconda3\\lib\\site-packages\\sklearn\\linear_model\\_logistic.py:940: ConvergenceWarning: lbfgs failed to converge (status=1):\n",
      "STOP: TOTAL NO. of ITERATIONS REACHED LIMIT.\n",
      "\n",
      "Increase the number of iterations (max_iter) or scale the data as shown in:\n",
      "    https://scikit-learn.org/stable/modules/preprocessing.html\n",
      "Please also refer to the documentation for alternative solver options:\n",
      "    https://scikit-learn.org/stable/modules/linear_model.html#logistic-regression\n",
      "  extra_warning_msg=_LOGISTIC_SOLVER_CONVERGENCE_MSG)\n"
     ]
    }
   ],
   "source": [
    "from sklearn.linear_model import LogisticRegression\n",
    "logisticRegr = LogisticRegression(solver = 'lbfgs', max_iter=500)  # instantiate model\n",
    "\n",
    "t1 = time.time()\n",
    "logisticRegr.fit(train_x, train_y)  # fit model on training sample\n",
    "print(\"LogReg fitting on MNIST took: \", round(time.time()-t1, 2), \" secs.\")  # 10 secs"
   ]
  },
  {
   "cell_type": "code",
   "execution_count": 20,
   "metadata": {},
   "outputs": [
    {
     "data": {
      "text/html": [
       "<div>\n",
       "<style scoped>\n",
       "    .dataframe tbody tr th:only-of-type {\n",
       "        vertical-align: middle;\n",
       "    }\n",
       "\n",
       "    .dataframe tbody tr th {\n",
       "        vertical-align: top;\n",
       "    }\n",
       "\n",
       "    .dataframe thead th {\n",
       "        text-align: right;\n",
       "    }\n",
       "</style>\n",
       "<table border=\"1\" class=\"dataframe\">\n",
       "  <thead>\n",
       "    <tr style=\"text-align: right;\">\n",
       "      <th></th>\n",
       "      <th>Actual_vals</th>\n",
       "      <th>Pred_vals</th>\n",
       "    </tr>\n",
       "  </thead>\n",
       "  <tbody>\n",
       "    <tr>\n",
       "      <th>0</th>\n",
       "      <td>0</td>\n",
       "      <td>0</td>\n",
       "    </tr>\n",
       "    <tr>\n",
       "      <th>1</th>\n",
       "      <td>4</td>\n",
       "      <td>4</td>\n",
       "    </tr>\n",
       "    <tr>\n",
       "      <th>2</th>\n",
       "      <td>1</td>\n",
       "      <td>1</td>\n",
       "    </tr>\n",
       "    <tr>\n",
       "      <th>3</th>\n",
       "      <td>2</td>\n",
       "      <td>2</td>\n",
       "    </tr>\n",
       "    <tr>\n",
       "      <th>4</th>\n",
       "      <td>7</td>\n",
       "      <td>4</td>\n",
       "    </tr>\n",
       "    <tr>\n",
       "      <th>5</th>\n",
       "      <td>9</td>\n",
       "      <td>7</td>\n",
       "    </tr>\n",
       "    <tr>\n",
       "      <th>6</th>\n",
       "      <td>7</td>\n",
       "      <td>7</td>\n",
       "    </tr>\n",
       "    <tr>\n",
       "      <th>7</th>\n",
       "      <td>1</td>\n",
       "      <td>1</td>\n",
       "    </tr>\n",
       "    <tr>\n",
       "      <th>8</th>\n",
       "      <td>1</td>\n",
       "      <td>1</td>\n",
       "    </tr>\n",
       "    <tr>\n",
       "      <th>9</th>\n",
       "      <td>7</td>\n",
       "      <td>7</td>\n",
       "    </tr>\n",
       "    <tr>\n",
       "      <th>10</th>\n",
       "      <td>1</td>\n",
       "      <td>1</td>\n",
       "    </tr>\n",
       "    <tr>\n",
       "      <th>11</th>\n",
       "      <td>3</td>\n",
       "      <td>3</td>\n",
       "    </tr>\n",
       "    <tr>\n",
       "      <th>12</th>\n",
       "      <td>4</td>\n",
       "      <td>4</td>\n",
       "    </tr>\n",
       "    <tr>\n",
       "      <th>13</th>\n",
       "      <td>2</td>\n",
       "      <td>2</td>\n",
       "    </tr>\n",
       "    <tr>\n",
       "      <th>14</th>\n",
       "      <td>6</td>\n",
       "      <td>6</td>\n",
       "    </tr>\n",
       "    <tr>\n",
       "      <th>15</th>\n",
       "      <td>4</td>\n",
       "      <td>4</td>\n",
       "    </tr>\n",
       "    <tr>\n",
       "      <th>16</th>\n",
       "      <td>6</td>\n",
       "      <td>6</td>\n",
       "    </tr>\n",
       "    <tr>\n",
       "      <th>17</th>\n",
       "      <td>7</td>\n",
       "      <td>7</td>\n",
       "    </tr>\n",
       "    <tr>\n",
       "      <th>18</th>\n",
       "      <td>3</td>\n",
       "      <td>9</td>\n",
       "    </tr>\n",
       "    <tr>\n",
       "      <th>19</th>\n",
       "      <td>3</td>\n",
       "      <td>3</td>\n",
       "    </tr>\n",
       "  </tbody>\n",
       "</table>\n",
       "</div>"
      ],
      "text/plain": [
       "   Actual_vals Pred_vals\n",
       "0            0         0\n",
       "1            4         4\n",
       "2            1         1\n",
       "3            2         2\n",
       "4            7         4\n",
       "5            9         7\n",
       "6            7         7\n",
       "7            1         1\n",
       "8            1         1\n",
       "9            7         7\n",
       "10           1         1\n",
       "11           3         3\n",
       "12           4         4\n",
       "13           2         2\n",
       "14           6         6\n",
       "15           4         4\n",
       "16           6         6\n",
       "17           7         7\n",
       "18           3         9\n",
       "19           3         3"
      ]
     },
     "execution_count": 20,
     "metadata": {},
     "output_type": "execute_result"
    }
   ],
   "source": [
    "# Predict for Multiple Observations (images) at Once\n",
    "pred_vals = logisticRegr.predict(test_x[0:1000]).tolist()\n",
    "\n",
    "out_df = pd.DataFrame({'Actual_vals': test_y[0:1000], 'Pred_vals':pred_vals})\n",
    "out_df.head(20)"
   ]
  },
  {
   "cell_type": "markdown",
   "metadata": {},
   "source": [
    "## Measuring Model Performance\n",
    "\n",
    "Accuracy is basicallythe fraction of correct predictions, computed as  correct predictions / total number of data points.\n",
    "\n",
    "This is our mot basic metric of how the model performs on new data (test set). The .score() func computes this for us. "
   ]
  },
  {
   "cell_type": "code",
   "execution_count": 21,
   "metadata": {},
   "outputs": [
    {
     "name": "stdout",
     "output_type": "stream",
     "text": [
      "accuracy is:  0.9181\n"
     ]
    }
   ],
   "source": [
    "score = logisticRegr.score(test_x, test_y)\n",
    "print(\"accuracy is: \", score)"
   ]
  },
  {
   "cell_type": "markdown",
   "metadata": {},
   "source": [
    "The original matrix 28x28 for any of the 70k digits is mostly sparse. \n",
    "\n",
    "What we did above was PCA to find a condensed set of 327 features that explain 95% of the total variance of the 784 colms (recall factor-an from MKTR!).\n",
    "\n",
    "Thereafter, we used these 327 features in a classifier and obtained about 92% accuracy. \n",
    "\n",
    "Next, we could repeat the above for: \n",
    "\n",
    "1. non-PCA under logReg (all 784 colms)\n",
    "\n",
    "2. PCA with 99% variance explained\n",
    "\n",
    "3. PCA with 90% variance explained and so on.\n",
    "\n",
    "I'll leave the details out and present here the results of running such an exercise. Behold. "
   ]
  },
  {
   "cell_type": "code",
   "execution_count": 22,
   "metadata": {},
   "outputs": [
    {
     "data": {
      "text/html": [
       "<div>\n",
       "<style scoped>\n",
       "    .dataframe tbody tr th:only-of-type {\n",
       "        vertical-align: middle;\n",
       "    }\n",
       "\n",
       "    .dataframe tbody tr th {\n",
       "        vertical-align: top;\n",
       "    }\n",
       "\n",
       "    .dataframe thead th {\n",
       "        text-align: right;\n",
       "    }\n",
       "</style>\n",
       "<table border=\"1\" class=\"dataframe\">\n",
       "  <thead>\n",
       "    <tr style=\"text-align: right;\">\n",
       "      <th></th>\n",
       "      <th>Variance Retained</th>\n",
       "      <th>Number of Components</th>\n",
       "      <th>Time (seconds)</th>\n",
       "      <th>Accuracy</th>\n",
       "    </tr>\n",
       "  </thead>\n",
       "  <tbody>\n",
       "    <tr>\n",
       "      <th>0</th>\n",
       "      <td>1.00</td>\n",
       "      <td>784</td>\n",
       "      <td>48.04</td>\n",
       "      <td>0.9158</td>\n",
       "    </tr>\n",
       "    <tr>\n",
       "      <th>1</th>\n",
       "      <td>0.99</td>\n",
       "      <td>544</td>\n",
       "      <td>32.39</td>\n",
       "      <td>0.9169</td>\n",
       "    </tr>\n",
       "    <tr>\n",
       "      <th>2</th>\n",
       "      <td>0.95</td>\n",
       "      <td>327</td>\n",
       "      <td>10.06</td>\n",
       "      <td>0.9181</td>\n",
       "    </tr>\n",
       "    <tr>\n",
       "      <th>3</th>\n",
       "      <td>0.90</td>\n",
       "      <td>238</td>\n",
       "      <td>8.06</td>\n",
       "      <td>0.9168</td>\n",
       "    </tr>\n",
       "    <tr>\n",
       "      <th>4</th>\n",
       "      <td>0.85</td>\n",
       "      <td>183</td>\n",
       "      <td>7.65</td>\n",
       "      <td>0.9156</td>\n",
       "    </tr>\n",
       "  </tbody>\n",
       "</table>\n",
       "</div>"
      ],
      "text/plain": [
       "   Variance Retained  Number of Components  Time (seconds)  Accuracy\n",
       "0               1.00                   784           48.04    0.9158\n",
       "1               0.99                   544           32.39    0.9169\n",
       "2               0.95                   327           10.06    0.9181\n",
       "3               0.90                   238            8.06    0.9168\n",
       "4               0.85                   183            7.65    0.9156"
      ]
     },
     "execution_count": 22,
     "metadata": {},
     "output_type": "execute_result"
    }
   ],
   "source": [
    "pd.DataFrame(data = [[1.00, 784, 48.04, .9158],\n",
    "                     [.99, 544, 32.39, .9169],\n",
    "                     [.95, 327, 10.06, .9181],\n",
    "                     [.90, 238, 8.06, .9168],\n",
    "                     [.85, 183, 7.65, .9156]], \n",
    "             columns = ['Variance Retained',\n",
    "                      'Number of Components', \n",
    "                      'Time (seconds)',\n",
    "                      'Accuracy'])"
   ]
  },
  {
   "cell_type": "markdown",
   "metadata": {},
   "source": [
    "Table above clearly shows a few things.\n",
    "\n",
    "1. Using all 784 features didn't produce much in accuracy terms. Takes 4x longer to run and yet its actually lower than our 95% figure of 0.9181!\n",
    "\n",
    "2. Just 327 features out of 784 (less than half) produces the best test sample accuracy. This could likely be peculiar to image data which are large, sparse matrices.\n",
    "\n",
    "3. Feature engineering and feature selection with PCA demonstrated with LogReg. \n",
    "\n",
    "4. We could have used Regularized regressions too with LogReg but that would only give us feature selection, not re-enginnered set of new dense features.\n",
    "\n",
    "Chalo, back to the slides now.\n",
    "\n",
    "Voleti. "
   ]
  }
 ],
 "metadata": {
  "kernelspec": {
   "display_name": "Python 3",
   "language": "python",
   "name": "python3"
  },
  "language_info": {
   "codemirror_mode": {
    "name": "ipython",
    "version": 3
   },
   "file_extension": ".py",
   "mimetype": "text/x-python",
   "name": "python",
   "nbconvert_exporter": "python",
   "pygments_lexer": "ipython3",
   "version": "3.6.5"
  }
 },
 "nbformat": 4,
 "nbformat_minor": 2
}
