{
 "cells": [
  {
   "cell_type": "markdown",
   "metadata": {},
   "source": [
    "# Model Evaluation and Improvement\n",
    "\n",
    "Some critical concepts needed for assessing ML perf are where we're now headed. These include - \n",
    "\n",
    "1. Cross validation k-fold as a concept\n",
    "\n",
    "2. From Confusion Matrices to Precision and  Recall\n",
    "\n",
    "3. The ROC curves and the AUC metric\n",
    "\n",
    "Let's head there right away, with first some synthetic data for illustration. \n",
    "\n",
    "I should mention that today we'll also be using two *canonical* datasets in the process - *Iris *and *MNIST*.\n",
    "\n",
    "P.S. These are inbuilt in ML suites of most programming languages, certainly in Py and R. Data Scientists would almost certainly be familiar with them. And they make good *baselines for inter-model comparison*.\n",
    "\n",
    "**Managerial Note**: When in doubt, ask your analyst team how their algo performs on Iris or MNIST against simpler models (like Naive Bayes or KNN, etc).\n",
    "\n",
    "Behold."
   ]
  },
  {
   "cell_type": "code",
   "execution_count": 31,
   "metadata": {},
   "outputs": [],
   "source": [
    "# setup chunk\n",
    "import mglearn \n",
    "import pandas as pd\n",
    "import numpy as np\n",
    "\n",
    "%matplotlib inline\n",
    "from matplotlib import pyplot as plt\n",
    "\n",
    "# scikit-learn imports\n",
    "from sklearn.datasets import make_blobs\n",
    "from sklearn.datasets import load_iris\n",
    "from sklearn.model_selection import train_test_split\n",
    "from sklearn.linear_model import LogisticRegression\n",
    "\n",
    "from sklearn.model_selection import cross_validate\n",
    "from sklearn.model_selection import cross_val_score\n",
    "from sklearn.model_selection import cross_val_predict\n",
    "\n",
    "from sklearn.metrics import precision_recall_curve\n",
    "from sklearn.metrics import roc_curve"
   ]
  },
  {
   "cell_type": "markdown",
   "metadata": {},
   "source": [
    "Let's start with first some synthetic data for illustrating Cross-Validation"
   ]
  },
  {
   "cell_type": "code",
   "execution_count": 35,
   "metadata": {
    "scrolled": true
   },
   "outputs": [
    {
     "name": "stdout",
     "output_type": "stream",
     "text": [
      "X data shape is:  (100, 2)\n",
      "\n",
      "\n",
      "[1 0 1 0 0 0 2 2 1 0]\n"
     ]
    },
    {
     "data": {
      "image/png": "[encoded data removed]",
      "text/plain": [
       "<Figure size 432x288 with 1 Axes>"
      ]
     },
     "metadata": {
      "needs_background": "light"
     },
     "output_type": "display_data"
    }
   ],
   "source": [
    "# build dummy dataset and explore it\n",
    "X, y = make_blobs(random_state=0)\n",
    "print(\"X data shape is: \", X.shape)\n",
    "print(\"\\n\")\n",
    "print(y[:10])  # see what y values are like\n",
    "\n",
    "# plot data to see pattern\n",
    "# plt.scatter(X[:,0], X[:,1], c=y)\n",
    "plt.plot(X[:,0][y==0], X[:,1][y==0], 'bo', label=\"class 0\")\n",
    "plt.plot(X[:,0][y==1], X[:,1][y==1], 'r*', label=\"class 1\")\n",
    "plt.plot(X[:,0][y==2], X[:,1][y==2], 'g^', label=\"class 2\")\n",
    "\n",
    "plt.xlabel(\"X1\")\n",
    "plt.ylabel(\"X2\")\n",
    "plt.legend()\n",
    "plt.show()"
   ]
  },
  {
   "cell_type": "markdown",
   "metadata": {},
   "source": [
    "Look at the figure above - 3 distinct labeled classes can be seen. Would you say the data are well-separated? Would a linear classifier be able to do how well of the job? Etc.\n",
    "\n",
    "Task is to test different classifiers and provide a framework and metrics to *evaluate* how well they do at separating and identifying each class."
   ]
  },
  {
   "cell_type": "code",
   "execution_count": 36,
   "metadata": {},
   "outputs": [
    {
     "name": "stdout",
     "output_type": "stream",
     "text": [
      "Test set score:  0.88\n"
     ]
    }
   ],
   "source": [
    "# split data and labels into a training and a test set\n",
    "X_train, X_test, y_train, y_test = train_test_split(X, y, random_state=0)\n",
    "\n",
    "# instantiate a model and fit it to the training set\n",
    "logreg = LogisticRegression().fit(X_train, y_train)\n",
    "\n",
    "# evaluate the model on the test set\n",
    "print(\"Test set score: \", round(logreg.score(X_test, y_test),3))"
   ]
  },
  {
   "cell_type": "markdown",
   "metadata": {},
   "source": [
    "So far so good. Stuff we've seen already. Now, to introduce a new topic.\n",
    "\n",
    "## Cross validation (CV)\n",
    "\n",
    "Recall the train-test split? Recall its rationale?<p>\n",
    "\n",
    "- The point of splitting away a test sample and hiding it away from the model ...<p>\n",
    "    \n",
    "- is to assess trained model perf on fresh data previously unseen by the model ...<p>\n",
    "    \n",
    "- and thereby estimate model generalizability to fresh data.<p>\n",
    "\n",
    "\n",
    "Nice. So what is this CV and why should we care?<p>  \n",
    "\n",
    "- It turns out that 'randomly' obtained training and test samples are NOT guaranteed to be representative.<p> \n",
    " \n",
    "- It may well happen that a model trained on a particular training sample behaves differently from the same algo if trained on a different cut of the same original data!<p>\n",
    " \n",
    "- Hence, it is prudent to **train and re-train model on different cuts of the data** and thereafter test model perf on different test samples.<p>\n",
    "\n",
    "Enter CV, a structured way to resample, retrain and revalidate model perf. What kinda structure? See below."
   ]
  },
  {
   "cell_type": "code",
   "execution_count": 37,
   "metadata": {},
   "outputs": [
    {
     "data": {
      "image/png": "[encoded data removed]",
      "text/plain": [
       "<Figure size 864x144 with 1 Axes>"
      ]
     },
     "metadata": {
      "needs_background": "light"
     },
     "output_type": "display_data"
    }
   ],
   "source": [
    "mglearn.plots.plot_cross_validation()"
   ]
  },
  {
   "cell_type": "markdown",
   "metadata": {},
   "source": [
    "### The How of k-fold CV\n",
    "\n",
    "- First, we partition a dataset into 'k' different equisized *folds*. <p>\n",
    "    \n",
    "- One fold of data is held out as test sample and model is trained on the remaining (k-1) samples. <p>\n",
    "\n",
    "- Next loop, another fold is held out as test and model is retrained on the remaining (k-1) as training sample. Rinse and Repeat.<p>\n",
    "\n",
    "- Thus, we train and run the model k times in k-fold cross-validation each time with a different Training and Test set composition.<p> \n",
    "    \n",
    "- We obtain k sets of validation set results. Variance in these results is informative.<p>\n",
    "\n",
    "sklearn has many convenient, inbuilt routines to handle different CV types and methods.\n",
    "\n",
    "Below, I demo the familiar logistic Regn model on the canonical Iris dataset.\n",
    "\n",
    "### CV on Iris"
   ]
  },
  {
   "cell_type": "code",
   "execution_count": 39,
   "metadata": {},
   "outputs": [
    {
     "name": "stdout",
     "output_type": "stream",
     "text": [
      "<class 'dict'>\n"
     ]
    },
    {
     "data": {
      "text/html": [
       "<div>\n",
       "<style scoped>\n",
       "    .dataframe tbody tr th:only-of-type {\n",
       "        vertical-align: middle;\n",
       "    }\n",
       "\n",
       "    .dataframe tbody tr th {\n",
       "        vertical-align: top;\n",
       "    }\n",
       "\n",
       "    .dataframe thead th {\n",
       "        text-align: right;\n",
       "    }\n",
       "</style>\n",
       "<table border=\"1\" class=\"dataframe\">\n",
       "  <thead>\n",
       "    <tr style=\"text-align: right;\">\n",
       "      <th></th>\n",
       "      <th>fit_time</th>\n",
       "      <th>score_time</th>\n",
       "      <th>test_score</th>\n",
       "      <th>train_score</th>\n",
       "    </tr>\n",
       "  </thead>\n",
       "  <tbody>\n",
       "    <tr>\n",
       "      <th>0</th>\n",
       "      <td>0.032012</td>\n",
       "      <td>0.0</td>\n",
       "      <td>0.966667</td>\n",
       "      <td>0.966667</td>\n",
       "    </tr>\n",
       "    <tr>\n",
       "      <th>1</th>\n",
       "      <td>0.045626</td>\n",
       "      <td>0.0</td>\n",
       "      <td>1.000000</td>\n",
       "      <td>0.966667</td>\n",
       "    </tr>\n",
       "    <tr>\n",
       "      <th>2</th>\n",
       "      <td>0.035678</td>\n",
       "      <td>0.0</td>\n",
       "      <td>0.933333</td>\n",
       "      <td>0.983333</td>\n",
       "    </tr>\n",
       "    <tr>\n",
       "      <th>3</th>\n",
       "      <td>0.040601</td>\n",
       "      <td>0.0</td>\n",
       "      <td>0.966667</td>\n",
       "      <td>0.983333</td>\n",
       "    </tr>\n",
       "    <tr>\n",
       "      <th>4</th>\n",
       "      <td>0.030506</td>\n",
       "      <td>0.0</td>\n",
       "      <td>1.000000</td>\n",
       "      <td>0.975000</td>\n",
       "    </tr>\n",
       "  </tbody>\n",
       "</table>\n",
       "</div>"
      ],
      "text/plain": [
       "   fit_time  score_time  test_score  train_score\n",
       "0  0.032012         0.0    0.966667     0.966667\n",
       "1  0.045626         0.0    1.000000     0.966667\n",
       "2  0.035678         0.0    0.933333     0.983333\n",
       "3  0.040601         0.0    0.966667     0.983333\n",
       "4  0.030506         0.0    1.000000     0.975000"
      ]
     },
     "execution_count": 39,
     "metadata": {},
     "output_type": "execute_result"
    }
   ],
   "source": [
    "# import data and model\n",
    "from sklearn.datasets import load_iris\n",
    "from sklearn.linear_model import LogisticRegression\n",
    "\n",
    "# loading iris data\n",
    "iris = load_iris()\n",
    "logreg = LogisticRegression(max_iter=1000, solver='lbfgs')  # Instantiating model\n",
    "\n",
    "## using cross_validate\n",
    "from sklearn.model_selection import cross_validate\n",
    "res = cross_validate(logreg,   # instantiated model\n",
    "                     iris.data,  # data\n",
    "                     iris.target, # label\n",
    "                     cv=5,  # num of folds\n",
    "                     return_train_score=True)  # retruns training sample acucracy scores too\n",
    "\n",
    "print(type(res))   # dict\n",
    "\n",
    "# store in a DF for nicer output views\n",
    "df0 = pd.DataFrame.from_dict(res)\n",
    "df0"
   ]
  },
  {
   "cell_type": "markdown",
   "metadata": {},
   "source": [
    "# Metrics to Evaluate Models\n",
    "\n",
    "We here deconstruct the confusion_matrix and extract metrics of interest viz.<p>\n",
    "    \n",
    "- Precision<p>\n",
    "    \n",
    "- Recall<p>\n",
    "    \n",
    "- the F1 score (which combines Precision and Recall).<p>\n",
    "\n",
    "These metrics in turn lead us to two important graphical assessment tools for ML models, namely, \n",
    "    \n",
    "1. **Precision-Recall curves**<p>\n",
    "    \n",
    "2. Receiver Operating Characteristic **(ROC) curve** and the Area Under this Curve (**AUC**)<p>\n",
    "\n",
    "Next, we'll wade into, for intuition and understanding purposes with simple demo examples the \n",
    "- what\n",
    "- when\n",
    "- when not\n",
    "- where\n",
    "- how\n",
    "of these evaluation metrics and measures.\n",
    "\n",
    "Let's set sail. All aboard."
   ]
  },
  {
   "cell_type": "code",
   "execution_count": 40,
   "metadata": {},
   "outputs": [
    {
     "name": "stdout",
     "output_type": "stream",
     "text": [
      "MNIST import took:  33.426  secs\n",
      "\n",
      "\n",
      "Dataset dimns are:  (70000, 784)\n",
      "(70000,)\n",
      "\n",
      "\n"
     ]
    }
   ],
   "source": [
    "# re-loading the MNIST dataset for our sample applcn\n",
    "from sklearn.datasets import fetch_openml\n",
    "import time\n",
    "\n",
    "t1 = time.time()\n",
    "mnist = fetch_openml('mnist_784', version=1, cache=True)\n",
    "t2 = time.time()\n",
    "print(\"MNIST import took: \", round(t2-t1, 3), \" secs\")  # 30.7 secs!\n",
    "print(\"\\n\")\n",
    "\n",
    "# explore dataset\n",
    "print(\"Dataset dimns are: \", mnist.data.shape)   # data size dimns\n",
    "print(mnist.target.shape)  # labels colm\n",
    "print(\"\\n\")"
   ]
  },
  {
   "cell_type": "markdown",
   "metadata": {},
   "source": [
    "Next we head to train-test-split. But with a twist. We want that every fold of every sample have every digit present.\n",
    "\n",
    "Moreover, some ML models are sensitive to the order in which the samples arrive. Randomization should help. \n",
    "\n",
    "So I hand-code a simple **shuffle splitter**. Behold."
   ]
  },
  {
   "cell_type": "code",
   "execution_count": 41,
   "metadata": {},
   "outputs": [],
   "source": [
    "# define X, y\n",
    "X, y = mnist[\"data\"], mnist[\"target\"]\n",
    "\n",
    "# split into 60k training set and 10k test set\n",
    "X_train, X_test, y_train, y_test = X[:60000], X[60000:], y[:60000], y[60000:]\n",
    "\n",
    "# imposing shuffle requirement, home brewed\n",
    "import numpy as np\n",
    "shuffle_index = np.random.permutation(60000)  # random index set\n",
    "X_train, y_train = X_train[shuffle_index], y_train[shuffle_index]  # shuffled training set"
   ]
  },
  {
   "cell_type": "markdown",
   "metadata": {},
   "source": [
    "## Training a Binary Classifier (SGD)\n",
    "\n",
    "Say our (simplified) task is only to predict whether a digit is a '5' versus not. Hence, binary classification.\n",
    "\n",
    "I intro the **Stochastic Gradient Descent (SGD) classifier** as one of the methods we evaluate. Partly because it is efficient on large samples. See below."
   ]
  },
  {
   "cell_type": "code",
   "execution_count": 42,
   "metadata": {},
   "outputs": [
    {
     "name": "stdout",
     "output_type": "stream",
     "text": [
      "a few elements of y_train_5:  [False False False  True False False False False False False]\n",
      "\n",
      "\n",
      "0.554 secs\n"
     ]
    }
   ],
   "source": [
    "# set new target set of labels\n",
    "y_train_5 = (y_train == '5')  # creates logcal vectors\n",
    "print(\"a few elements of y_train_5: \", y_train_5[:10])  # view\n",
    "print(\"\\n\")\n",
    "y_test_5 = (y_test == '5')\n",
    "\n",
    "# import and train classifier on training data\n",
    "from sklearn.linear_model import SGDClassifier\n",
    "t1 = time.time()\n",
    "sgd_clf = SGDClassifier(max_iter=5, tol=-np.infty, random_state=42)\n",
    "sgd_clf.fit(X_train, y_train_5)\n",
    "print(round(time.time()-t1, 3), \"secs\")  # 0.5 secs for 60k samples. Fast!"
   ]
  },
  {
   "cell_type": "markdown",
   "metadata": {},
   "source": [
    "Time to see how well the SGDclassifier predicts on test data.\n",
    "\n",
    "To do that, let me first show you some instances in the data which are '5' versus 'non-5'."
   ]
  },
  {
   "cell_type": "code",
   "execution_count": 43,
   "metadata": {},
   "outputs": [
    {
     "data": {
      "text/html": [
       "<div>\n",
       "<style scoped>\n",
       "    .dataframe tbody tr th:only-of-type {\n",
       "        vertical-align: middle;\n",
       "    }\n",
       "\n",
       "    .dataframe tbody tr th {\n",
       "        vertical-align: top;\n",
       "    }\n",
       "\n",
       "    .dataframe thead th {\n",
       "        text-align: right;\n",
       "    }\n",
       "</style>\n",
       "<table border=\"1\" class=\"dataframe\">\n",
       "  <thead>\n",
       "    <tr style=\"text-align: right;\">\n",
       "      <th></th>\n",
       "      <th>actual_y</th>\n",
       "      <th>predicted_y</th>\n",
       "    </tr>\n",
       "  </thead>\n",
       "  <tbody>\n",
       "    <tr>\n",
       "      <th>0</th>\n",
       "      <td>4</td>\n",
       "      <td>False</td>\n",
       "    </tr>\n",
       "    <tr>\n",
       "      <th>1</th>\n",
       "      <td>7</td>\n",
       "      <td>False</td>\n",
       "    </tr>\n",
       "    <tr>\n",
       "      <th>2</th>\n",
       "      <td>6</td>\n",
       "      <td>False</td>\n",
       "    </tr>\n",
       "    <tr>\n",
       "      <th>3</th>\n",
       "      <td>7</td>\n",
       "      <td>False</td>\n",
       "    </tr>\n",
       "    <tr>\n",
       "      <th>4</th>\n",
       "      <td>9</td>\n",
       "      <td>False</td>\n",
       "    </tr>\n",
       "    <tr>\n",
       "      <th>5</th>\n",
       "      <td>0</td>\n",
       "      <td>False</td>\n",
       "    </tr>\n",
       "    <tr>\n",
       "      <th>6</th>\n",
       "      <td>5</td>\n",
       "      <td>True</td>\n",
       "    </tr>\n",
       "    <tr>\n",
       "      <th>7</th>\n",
       "      <td>8</td>\n",
       "      <td>False</td>\n",
       "    </tr>\n",
       "    <tr>\n",
       "      <th>8</th>\n",
       "      <td>5</td>\n",
       "      <td>True</td>\n",
       "    </tr>\n",
       "    <tr>\n",
       "      <th>9</th>\n",
       "      <td>6</td>\n",
       "      <td>False</td>\n",
       "    </tr>\n",
       "    <tr>\n",
       "      <th>10</th>\n",
       "      <td>6</td>\n",
       "      <td>False</td>\n",
       "    </tr>\n",
       "    <tr>\n",
       "      <th>11</th>\n",
       "      <td>5</td>\n",
       "      <td>True</td>\n",
       "    </tr>\n",
       "    <tr>\n",
       "      <th>12</th>\n",
       "      <td>7</td>\n",
       "      <td>False</td>\n",
       "    </tr>\n",
       "    <tr>\n",
       "      <th>13</th>\n",
       "      <td>8</td>\n",
       "      <td>False</td>\n",
       "    </tr>\n",
       "    <tr>\n",
       "      <th>14</th>\n",
       "      <td>1</td>\n",
       "      <td>False</td>\n",
       "    </tr>\n",
       "    <tr>\n",
       "      <th>15</th>\n",
       "      <td>0</td>\n",
       "      <td>False</td>\n",
       "    </tr>\n",
       "    <tr>\n",
       "      <th>16</th>\n",
       "      <td>1</td>\n",
       "      <td>False</td>\n",
       "    </tr>\n",
       "    <tr>\n",
       "      <th>17</th>\n",
       "      <td>6</td>\n",
       "      <td>False</td>\n",
       "    </tr>\n",
       "    <tr>\n",
       "      <th>18</th>\n",
       "      <td>4</td>\n",
       "      <td>False</td>\n",
       "    </tr>\n",
       "  </tbody>\n",
       "</table>\n",
       "</div>"
      ],
      "text/plain": [
       "   actual_y  predicted_y\n",
       "0         4        False\n",
       "1         7        False\n",
       "2         6        False\n",
       "3         7        False\n",
       "4         9        False\n",
       "5         0        False\n",
       "6         5         True\n",
       "7         8        False\n",
       "8         5         True\n",
       "9         6        False\n",
       "10        6        False\n",
       "11        5         True\n",
       "12        7        False\n",
       "13        8        False\n",
       "14        1        False\n",
       "15        0        False\n",
       "16        1        False\n",
       "17        6        False\n",
       "18        4        False"
      ]
     },
     "execution_count": 43,
     "metadata": {},
     "output_type": "execute_result"
    }
   ],
   "source": [
    "# display as dataframe a few samples of SGD classification\n",
    "disp_df = pd.DataFrame({'actual_y':y_test[121:140], 'predicted_y':sgd_clf.predict(X_test[121:140])})\n",
    "disp_df"
   ]
  },
  {
   "cell_type": "markdown",
   "metadata": {},
   "source": [
    "## Performance Measures\n",
    "\n",
    "Well, how well did we do?  Need some standard perf metrics to assess this.\n",
    "\n",
    "And would perf change by a lot if we'd *randomly* picked a different train-test sample instead? Need cross-validation to see this.\n",
    "\n",
    "Let's find out below. "
   ]
  },
  {
   "cell_type": "code",
   "execution_count": 44,
   "metadata": {},
   "outputs": [
    {
     "name": "stdout",
     "output_type": "stream",
     "text": [
      "[0.9678  0.9599  0.96525]\n",
      "\n",
      "\n"
     ]
    },
    {
     "data": {
      "text/plain": [
       "0.964"
      ]
     },
     "execution_count": 44,
     "metadata": {},
     "output_type": "execute_result"
    }
   ],
   "source": [
    "# running 3-fold cv to check robustness\n",
    "from sklearn.model_selection import cross_val_score\n",
    "cv_score = cross_val_score(sgd_clf, X_train, y_train_5, cv=3, scoring=\"accuracy\")\n",
    "print(cv_score)\n",
    "print(\"\\n\")\n",
    "round(cv_score.mean(), 3)"
   ]
  },
  {
   "cell_type": "markdown",
   "metadata": {},
   "source": [
    "Wow. ~ 96% accuracy! We must be on roll, eh?\n",
    "\n",
    "Lest we get too excited, let's see how well a *Dumb Classifier* does on the same data. \n",
    "\n",
    "### Compare against a Dummy Classifier\n",
    "\n",
    "Behold."
   ]
  },
  {
   "cell_type": "code",
   "execution_count": 45,
   "metadata": {},
   "outputs": [
    {
     "name": "stdout",
     "output_type": "stream",
     "text": [
      "Unique predicted labels:  [False]\n",
      "Test score:  0.91\n"
     ]
    }
   ],
   "source": [
    "from sklearn.dummy import DummyClassifier\n",
    "\n",
    "# define 'most freq' as dummy rule for this classifier\n",
    "dummy_majority = DummyClassifier(strategy='most_frequent').fit(X_train, y_train_5)\n",
    "pred_most_frequent = dummy_majority.predict(X_test)\n",
    "\n",
    "# now check perf of dummy clfr\n",
    "print(\"Unique predicted labels: \", np.unique(pred_most_frequent))\n",
    "print(\"Test score: \", round(dummy_majority.score(X_test, y_test_5), 2))"
   ]
  },
  {
   "cell_type": "markdown",
   "metadata": {},
   "source": [
    "91%!\n",
    "\n",
    "Unsurprising in hindsight since only about 10% of the digits randomly speaking, would be fives.\n",
    "\n",
    "So even with dummy classifiers, we get **90% accuracy, without learning anything**.\n",
    "\n",
    "Common problem in 'unbalanced' (in this case, seriously *skewed*) datasets.\n",
    "\n",
    "A confusion matrix provides us a way out - to evolve better metrics to measure ML classifier perf better.\n",
    "\n",
    "## Confusion Matrices and Derivatives"
   ]
  },
  {
   "cell_type": "code",
   "execution_count": 46,
   "metadata": {},
   "outputs": [
    {
     "data": {
      "text/html": [
       "<div>\n",
       "<style scoped>\n",
       "    .dataframe tbody tr th:only-of-type {\n",
       "        vertical-align: middle;\n",
       "    }\n",
       "\n",
       "    .dataframe tbody tr th {\n",
       "        vertical-align: top;\n",
       "    }\n",
       "\n",
       "    .dataframe thead th {\n",
       "        text-align: right;\n",
       "    }\n",
       "</style>\n",
       "<table border=\"1\" class=\"dataframe\">\n",
       "  <thead>\n",
       "    <tr style=\"text-align: right;\">\n",
       "      <th></th>\n",
       "      <th>pred_not5</th>\n",
       "      <th>pred_5</th>\n",
       "    </tr>\n",
       "  </thead>\n",
       "  <tbody>\n",
       "    <tr>\n",
       "      <th>actual_not5</th>\n",
       "      <td>53620</td>\n",
       "      <td>959</td>\n",
       "    </tr>\n",
       "    <tr>\n",
       "      <th>actual_5</th>\n",
       "      <td>1182</td>\n",
       "      <td>4239</td>\n",
       "    </tr>\n",
       "  </tbody>\n",
       "</table>\n",
       "</div>"
      ],
      "text/plain": [
       "             pred_not5  pred_5\n",
       "actual_not5      53620     959\n",
       "actual_5          1182    4239"
      ]
     },
     "execution_count": 46,
     "metadata": {},
     "output_type": "execute_result"
    }
   ],
   "source": [
    "# combining CV with clfr prediction\n",
    "from sklearn.model_selection import cross_val_predict\n",
    "y_train_pred = cross_val_predict(sgd_clf, X_train, y_train_5, cv=3)\n",
    "\n",
    "# building a confusion matrix\n",
    "from sklearn.metrics import confusion_matrix\n",
    "conf_mat = confusion_matrix(y_train_5, y_train_pred)\n",
    "\n",
    "# display as dataframe\n",
    "df1 = pd.DataFrame(conf_mat, \n",
    "                   columns=['pred_not5', 'pred_5'], # colm labels\n",
    "                   index=['actual_not5', 'actual_5']) # row labels\n",
    "df1                   "
   ]
  },
  {
   "cell_type": "markdown",
   "metadata": {},
   "source": [
    "Clearly, quite a few cases where true 5s went undetected (False Negatives) and even more where non-5s were misidentified as 5s (False Positives).\n",
    "\n",
    "Let me head briefly to the slides to better explain the structure and construction of the confusion matrix and the measures that obtainfrom it - Precision and Recall.\n",
    "\n",
    "### Precision Recall Tradeoff"
   ]
  },
  {
   "cell_type": "code",
   "execution_count": 47,
   "metadata": {},
   "outputs": [
    {
     "name": "stdout",
     "output_type": "stream",
     "text": [
      "Precision in digit-5 case was:  0.82\n",
      "Recall in digit-5 case was:  0.78\n"
     ]
    }
   ],
   "source": [
    "from sklearn.metrics import precision_score, recall_score\n",
    "\n",
    "preci = precision_score(y_train_5, y_train_pred)\n",
    "recall = recall_score(y_train_5, y_train_pred)\n",
    "\n",
    "print(\"Precision in digit-5 case was: \", round(preci, 2))\n",
    "print(\"Recall in digit-5 case was: \", round(recall, 2))"
   ]
  },
  {
   "cell_type": "markdown",
   "metadata": {},
   "source": [
    "Well, now things don't look so shiny do they? \n",
    "\n",
    "- Precision is measly at 74% (against dummy scores of 91% BTW), implying only three-quarters odd of all cases we predicted as '5' were actually '5'.<p>\n",
    "\n",
    "- Reg Recall, seems our model only captures about 78% of all true-5s in the Training data!<p>\n",
    "\n",
    "- Precision and Recall measure different things and are informative in different contexts. (Head to slides for more on this)<p>\n",
    "\n",
    "### F1 score\n",
    "\n",
    "Often we may want to combine the properties of both Precision and Recall into a single metric. Enter the 'f1' score. Behold.\n"
   ]
  },
  {
   "cell_type": "code",
   "execution_count": 48,
   "metadata": {},
   "outputs": [
    {
     "name": "stdout",
     "output_type": "stream",
     "text": [
      "f1 score was:  0.8\n"
     ]
    }
   ],
   "source": [
    "from sklearn.metrics import f1_score\n",
    "print(\"f1 score was: \", round(f1_score(y_train_5, y_train_pred), 2))"
   ]
  },
  {
   "cell_type": "markdown",
   "metadata": {},
   "source": [
    "By construction, the F1 score favors models that have similar precision and recall.\n",
    "\n",
    "- In instances where high Precision is required (ensure whatever is identified as positive is indeed positive) such as Video-Ratings-for-kids or the drug-discovery-screening-process, we may deliberately favor ML models that do Precision very well even if Recall is iffy. <p>\n",
    "\n",
    "- In other instances, where high Recall is needed i.e., False Negatives can be tolerated such as shoplifting-surveillance or cancer-screening, we prefer algos with better Recall perf.<p>\n",
    "\n",
    "- Normally, an algo's decision function gives score of '1' over '0' if probability exceeds 50%. However, we can tinker with this and set high (or low)  **decision thresholds** if we want high precision (high recall).<p>\n",
    "\n",
    "- Unforunately, can't have it both ways. Raising Precision pulls down Recall and vice-versa. Also called the **Precision-recall tradeoff**.<p>\n",
    "\n",
    "Next, I plot how the Precision of an ML algo varies with change in decision threshold (the **'precision curve'**) and do likewise for **Recall curves** too. \n",
    "\n",
    "Behold."
   ]
  },
  {
   "cell_type": "code",
   "execution_count": 51,
   "metadata": {},
   "outputs": [
    {
     "data": {
      "image/png": "[encoded data removed]",
      "text/plain": [
       "<Figure size 576x288 with 1 Axes>"
      ]
     },
     "metadata": {
      "needs_background": "light"
     },
     "output_type": "display_data"
    }
   ],
   "source": [
    "from sklearn.model_selection import cross_val_predict\n",
    "y_scores = cross_val_predict(sgd_clf, X_train, y_train_5, cv=3,\n",
    "                             method=\"decision_function\")\n",
    "\n",
    "from sklearn.metrics import precision_recall_curve\n",
    "precisions, recalls, thresholds = precision_recall_curve(y_train_5, y_scores)\n",
    "\n",
    "# define func that uses above scores and plots the P-R curves\n",
    "def plot_precision_recall_vs_threshold(precisions, recalls, thresholds):\n",
    "    plt.plot(thresholds, precisions[:-1], \"b--\", label=\"Precision\", linewidth=2)\n",
    "    plt.plot(thresholds, recalls[:-1], \"g-\", label=\"Recall\", linewidth=2)\n",
    "    plt.xlabel(\"Threshold\", fontsize=16)\n",
    "    plt.legend(loc=\"upper left\", fontsize=16)\n",
    "    plt.ylim([0, 1])\n",
    "\n",
    "plt.figure(figsize=(8, 4))\n",
    "plot_precision_recall_vs_threshold(precisions, recalls, thresholds)\n",
    "plt.xlim([-700000, 700000])\n",
    "plt.show()"
   ]
  },
  {
   "cell_type": "markdown",
   "metadata": {},
   "source": [
    "sklearn disallows directly setting decision thresholds. \n",
    "\n",
    "However, it gives access to decision function scores. I used these to work around and get to P-R curves.\n",
    "\n",
    "Often helpful to plot Precision directly against recall. See below."
   ]
  },
  {
   "cell_type": "code",
   "execution_count": 52,
   "metadata": {},
   "outputs": [
    {
     "data": {
      "image/png": "[encoded data removed]",
      "text/plain": [
       "<Figure size 576x432 with 1 Axes>"
      ]
     },
     "metadata": {
      "needs_background": "light"
     },
     "output_type": "display_data"
    }
   ],
   "source": [
    "# define func to plot P-R curves directly\n",
    "def plot_precision_vs_recall(precisions, recalls):\n",
    "    plt.plot(recalls, precisions, \"b-\", linewidth=2)\n",
    "    plt.xlabel(\"Recall\", fontsize=16)\n",
    "    plt.ylabel(\"Precision\", fontsize=16)\n",
    "    plt.axis([0, 1, 0, 1])\n",
    "\n",
    "plt.figure(figsize=(8, 6))\n",
    "plot_precision_vs_recall(precisions, recalls)\n",
    "plt.show()"
   ]
  },
  {
   "cell_type": "markdown",
   "metadata": {},
   "source": [
    "### How to Read the P-R curve?\n",
    "\n",
    "- The x-axis is Recall (% of all Positives we captured).<p>\n",
    "    \n",
    "- The y-axis is Precision (% of Predicted positives that were actually Positive).<p>\n",
    "\n",
    "- Closer the curve is to the top right, better the algo's perf (since both P and R are high).<p>    \n",
    "\n",
    "- From curve above, easy to see that precision starts to fall off rather sharply around 70% recall.<p>\n",
    "    \n",
    "- We may want a P-R tradeoff just before that drop happens, say around 2/3rds or something. Depends on context of course. <p>\n",
    "\n",
    "Time now to move to the last of perf measures, \n",
    "\n",
    "### ROC and the AUC.\n",
    "\n",
    "Let' first head to the slides before this maybe?"
   ]
  },
  {
   "cell_type": "code",
   "execution_count": 53,
   "metadata": {},
   "outputs": [
    {
     "data": {
      "image/png": "[encoded data removed]",
      "text/plain": [
       "<Figure size 576x432 with 1 Axes>"
      ]
     },
     "metadata": {
      "needs_background": "light"
     },
     "output_type": "display_data"
    }
   ],
   "source": [
    "from sklearn.metrics import roc_curve\n",
    "fpr, tpr, thresholds = roc_curve(y_train_5, y_scores)\n",
    "\n",
    "# define plotting func for ROC\n",
    "def plot_roc_curve(fpr, tpr, label=None):\n",
    "    plt.plot(fpr, tpr, linewidth=2, label=label)\n",
    "    plt.plot([0, 1], [0, 1], 'k--')\n",
    "    plt.axis([0, 1, 0, 1])\n",
    "    plt.xlabel('False Positive Rate', fontsize=16)\n",
    "    plt.ylabel('True Positive Rate', fontsize=16)\n",
    "\n",
    "plt.figure(figsize=(8, 6))\n",
    "plot_roc_curve(fpr, tpr)\n",
    "plt.show()"
   ]
  },
  {
   "cell_type": "markdown",
   "metadata": {},
   "source": [
    "How to read the ROC curve? \n",
    "\n",
    "The y-axis is **sensitivity** and measures the TPR. Higher the better, of course. Corresponds to Precision.\n",
    "\n",
    "The x-axis is the FPR, also called the **1-Specificity** since the FNR is often called Specificity. The more specific a model to detecting True Positives, the more it disallows false negatives from happening.\n",
    "\n",
    "Closer a model's ROC is to the top left corner, better its perf.\n",
    "\n",
    "### The  Area Under the Curve (AUC)\n",
    "\n",
    "Sometimes, when comparing multiple ML algos performances, it makes sense to reduce the entire ROC curve to 1 perf metric. \n",
    "\n",
    "This is the area under the ROC curve, or simply AUC - a single number measure of classifier perf across varying sample compositions and skew.\n",
    "\n",
    "Behold."
   ]
  },
  {
   "cell_type": "code",
   "execution_count": 54,
   "metadata": {},
   "outputs": [
    {
     "name": "stdout",
     "output_type": "stream",
     "text": [
      "AUC is:  0.963\n"
     ]
    }
   ],
   "source": [
    "from sklearn.metrics import roc_auc_score\n",
    "auc = roc_auc_score(y_train_5, y_scores)\n",
    "print(\"AUC is: \", round(auc, 3))"
   ]
  },
  {
   "cell_type": "markdown",
   "metadata": {},
   "source": [
    "## Comparing ML Models via AUC\n",
    "\n",
    "We've done SGD. Let's also see another classifier - the **RandomForest or RF classifier** from the ensemble methods section of the Decision Tree class. \n",
    "\n",
    "Let's compare which ML model does better on the same data under varying conditions of precision and recall, sensitivity and specificity. \n",
    "\n",
    "Behold."
   ]
  },
  {
   "cell_type": "code",
   "execution_count": 55,
   "metadata": {},
   "outputs": [
    {
     "data": {
      "image/png": "[encoded data removed]",
      "text/plain": [
       "<Figure size 576x432 with 1 Axes>"
      ]
     },
     "metadata": {
      "needs_background": "light"
     },
     "output_type": "display_data"
    }
   ],
   "source": [
    "# instantiate RF clfr\n",
    "from sklearn.ensemble import RandomForestClassifier\n",
    "forest_clf = RandomForestClassifier(n_estimators=10, random_state=42)\n",
    "y_probas_forest = cross_val_predict(forest_clf, X_train, y_train_5, cv=3,\n",
    "                                    method=\"predict_proba\")\n",
    "\n",
    "# obtain decision scores for RF\n",
    "y_scores_forest = y_probas_forest[:, 1] # score = proba of positive class\n",
    "fpr_forest, tpr_forest, thresholds_forest = roc_curve(y_train_5,y_scores_forest)\n",
    "\n",
    "# plot overlaying SGD vs RF\n",
    "plt.figure(figsize=(8, 6))\n",
    "plt.plot(fpr, tpr, \"b:\", linewidth=2, label=\"SGD\")\n",
    "plot_roc_curve(fpr_forest, tpr_forest, \"Random Forest\")\n",
    "plt.legend(loc=\"lower right\", fontsize=16)\n",
    "plt.show()"
   ]
  },
  {
   "cell_type": "markdown",
   "metadata": {},
   "source": [
    "No doubt the RF outperforms SGD on just about every metric under the sun, on this dataset. AUC is clearly higher. See below."
   ]
  },
  {
   "cell_type": "code",
   "execution_count": 56,
   "metadata": {},
   "outputs": [
    {
     "name": "stdout",
     "output_type": "stream",
     "text": [
      "AUC of RF is:  0.992\n",
      "\n",
      "\n",
      "RF Precision is:  0.988\n",
      "\n",
      "\n",
      "RF Recall is:  0.823\n"
     ]
    }
   ],
   "source": [
    "auc_rf = roc_auc_score(y_train_5, y_scores_forest)\n",
    "print(\"AUC of RF is: \", round(auc_rf, 3))\n",
    "print(\"\\n\")\n",
    "\n",
    "# find also P and R scores for RF algo\n",
    "y_train_pred_forest = cross_val_predict(forest_clf, X_train, y_train_5, cv=3)\n",
    "preci_rf = precision_score(y_train_5, y_train_pred_forest)\n",
    "recall_rf = recall_score(y_train_5, y_train_pred_forest)\n",
    "\n",
    "print(\"RF Precision is: \", round(preci_rf, 3))\n",
    "print(\"\\n\")\n",
    "print(\"RF Recall is: \", round(recall_rf, 3))"
   ]
  },
  {
   "cell_type": "markdown",
   "metadata": {},
   "source": [
    "Chalo, time to head back to slides now.\n",
    "\n",
    "Voleti."
   ]
  }
 ],
 "metadata": {
  "kernelspec": {
   "display_name": "Python 3",
   "language": "python",
   "name": "python3"
  },
  "language_info": {
   "codemirror_mode": {
    "name": "ipython",
    "version": 3
   },
   "file_extension": ".py",
   "mimetype": "text/x-python",
   "name": "python",
   "nbconvert_exporter": "python",
   "pygments_lexer": "ipython3",
   "version": "3.6.5"
  }
 },
 "nbformat": 4,
 "nbformat_minor": 2
}
