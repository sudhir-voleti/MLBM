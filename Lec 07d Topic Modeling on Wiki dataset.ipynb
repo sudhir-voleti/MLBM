{
 "cells": [
  {
   "cell_type": "code",
   "execution_count": 1,
   "metadata": {},
   "outputs": [
    {
     "name": "stdout",
     "output_type": "stream",
     "text": [
      "[nltk_data] Downloading package stopwords to\n",
      "[nltk_data]     C:\\Users\\31202\\AppData\\Roaming\\nltk_data...\n",
      "[nltk_data]   Package stopwords is already up-to-date!\n",
      "[nltk_data] Downloading package wordnet to\n",
      "[nltk_data]     C:\\Users\\31202\\AppData\\Roaming\\nltk_data...\n",
      "[nltk_data]   Package wordnet is already up-to-date!\n"
     ]
    }
   ],
   "source": [
    "# Setup  Chunk\n",
    "import pandas as pd\n",
    "import numpy as np\n",
    "import matplotlib.pyplot as plt\n",
    "\n",
    "# import gensim.parsing.preprocessing\n",
    "from gensim.parsing.preprocessing import strip_punctuation, strip_tags, strip_numeric\n",
    "from nltk.stem.wordnet import WordNetLemmatizer   \n",
    "from nltk.corpus import stopwords\n",
    "from gensim.utils import simple_preprocess\n",
    "\n",
    "\n",
    "import nltk\n",
    "nltk.download('stopwords')\n",
    "nltk.download('wordnet')\n",
    "\n",
    "import time\n",
    "\n",
    "\n",
    "# NLTK Stop words extended\n",
    "stop_words = stopwords.words('english')\n",
    "lemma = WordNetLemmatizer()\n",
    "\n",
    "from sklearn.utils import shuffle\n",
    "\n",
    "import spacy\n",
    "import gensim\n",
    "import gensim.corpora as corpora\n"
   ]
  },
  {
   "cell_type": "markdown",
   "metadata": {},
   "source": [
    "### Steps of Topic Modeling\n",
    "\n",
    "- Loading data\n",
    "- Data Cleaning (Phrase Modeling: Bi-grams and Tri-grams)\n",
    "- Data transformation: Corpus and Dictionary\n",
    "- Base Model Performance\n",
    "- Hyperparameter Tuning \n",
    "- Final Model\n",
    "- Visualize Results\n"
   ]
  },
  {
   "cell_type": "markdown",
   "metadata": {},
   "source": [
    "### Loading the dataset"
   ]
  },
  {
   "cell_type": "code",
   "execution_count": 2,
   "metadata": {},
   "outputs": [],
   "source": [
    "df = pd.read_csv(\"C:\\\\Users\\\\31202\\\\Desktop\\\\Wiki.csv\") #Dataset is scrapped from wikipedia\n"
   ]
  },
  {
   "cell_type": "markdown",
   "metadata": {},
   "source": [
    "Dataset is scraped from wikipedia and & can be classified into following four categories\n",
    "\n",
    "1: Cricket\n",
    "\n",
    "2: Movies\n",
    "\n",
    "3: AI & ML\n",
    "\n",
    "4: Health"
   ]
  },
  {
   "cell_type": "code",
   "execution_count": 3,
   "metadata": {},
   "outputs": [
    {
     "data": {
      "text/html": [
       "<div>\n",
       "<style scoped>\n",
       "    .dataframe tbody tr th:only-of-type {\n",
       "        vertical-align: middle;\n",
       "    }\n",
       "\n",
       "    .dataframe tbody tr th {\n",
       "        vertical-align: top;\n",
       "    }\n",
       "\n",
       "    .dataframe thead th {\n",
       "        text-align: right;\n",
       "    }\n",
       "</style>\n",
       "<table border=\"1\" class=\"dataframe\">\n",
       "  <thead>\n",
       "    <tr style=\"text-align: right;\">\n",
       "      <th></th>\n",
       "      <th>Text</th>\n",
       "      <th>Category</th>\n",
       "    </tr>\n",
       "  </thead>\n",
       "  <tbody>\n",
       "    <tr>\n",
       "      <th>984</th>\n",
       "      <td>Information technology, together with industri...</td>\n",
       "      <td>3</td>\n",
       "    </tr>\n",
       "    <tr>\n",
       "      <th>1262</th>\n",
       "      <td>Surgery is an ancient medical specialty that u...</td>\n",
       "      <td>4</td>\n",
       "    </tr>\n",
       "    <tr>\n",
       "      <th>1290</th>\n",
       "      <td>The major shift in medical thinking was the gr...</td>\n",
       "      <td>4</td>\n",
       "    </tr>\n",
       "    <tr>\n",
       "      <th>374</th>\n",
       "      <td>Historically, the \"Oscarcast\" has pulled in a ...</td>\n",
       "      <td>2</td>\n",
       "    </tr>\n",
       "    <tr>\n",
       "      <th>766</th>\n",
       "      <td>In computer science, Artificial intelligence (...</td>\n",
       "      <td>3</td>\n",
       "    </tr>\n",
       "  </tbody>\n",
       "</table>\n",
       "</div>"
      ],
      "text/plain": [
       "                                                   Text  Category\n",
       "984   Information technology, together with industri...         3\n",
       "1262  Surgery is an ancient medical specialty that u...         4\n",
       "1290  The major shift in medical thinking was the gr...         4\n",
       "374   Historically, the \"Oscarcast\" has pulled in a ...         2\n",
       "766   In computer science, Artificial intelligence (...         3"
      ]
     },
     "execution_count": 3,
     "metadata": {},
     "output_type": "execute_result"
    }
   ],
   "source": [
    "df = shuffle(df) #randomly shuffle all rows\n",
    "df.head()"
   ]
  },
  {
   "cell_type": "code",
   "execution_count": 4,
   "metadata": {},
   "outputs": [
    {
     "data": {
      "text/plain": [
       "(1355, 2)"
      ]
     },
     "execution_count": 4,
     "metadata": {},
     "output_type": "execute_result"
    }
   ],
   "source": [
    "df.shape # dimensions of the dataset"
   ]
  },
  {
   "cell_type": "markdown",
   "metadata": {},
   "source": [
    "### Data Cleaning"
   ]
  },
  {
   "cell_type": "code",
   "execution_count": 5,
   "metadata": {},
   "outputs": [],
   "source": [
    "# bigram_mod = gensim.models.phrases.Phraser(bigram) # Automatically detect common phrases\n",
    "# trigram_mod = gensim.models.phrases.Phraser(trigram)\n",
    "\n",
    "\n",
    "# Function to clean text\n",
    "def process_words(texts, stop_words=stop_words, allowed_postags=['NOUN', 'ADJ', 'VERB', 'ADV']):\n",
    "    \"\"\"Remove Stopwords, Form Bigrams, Trigrams and Lemmatization\"\"\"\n",
    "    texts = [[word for word in simple_preprocess(str(doc)) if word not in stop_words] for doc in texts]\n",
    "    bigram = gensim.models.Phrases(texts, min_count=5, threshold=100) # higher threshold fewer phrases.\n",
    "    trigram = gensim.models.Phrases(bigram[texts], threshold=100)  \n",
    "    bigram_mod = gensim.models.phrases.Phraser(bigram)\n",
    "    trigram_mod = gensim.models.phrases.Phraser(trigram)\n",
    "    texts = [bigram_mod[doc] for doc in texts]\n",
    "    texts = [trigram_mod[bigram_mod[doc]] for doc in texts]\n",
    "    texts_out = []\n",
    "    nlp = spacy.load('en_core_web_sm', disable=['parser', 'ner'])\n",
    "    for sent in texts:\n",
    "        doc = nlp(\" \".join(sent)) \n",
    "        texts_out.append([token.lemma_ for token in doc if token.pos_ in allowed_postags])\n",
    "    # remove stopwords once more after lemmatization\n",
    "    texts_out = [[word for word in simple_preprocess(str(doc)) if word not in stop_words] for doc in texts_out]    \n",
    "    return texts_out"
   ]
  },
  {
   "cell_type": "code",
   "execution_count": 6,
   "metadata": {
    "scrolled": true
   },
   "outputs": [
    {
     "name": "stdout",
     "output_type": "stream",
     "text": [
      "11.464969158172607 Secs\n"
     ]
    }
   ],
   "source": [
    "t1 = time.time()\n",
    "corpus1 = process_words(df['Text'])  # corpus cleaned of html tags, puncs, lemmas\n",
    "t2 = time.time()\n",
    "print(t2-t1,\"Secs\")"
   ]
  },
  {
   "cell_type": "markdown",
   "metadata": {},
   "source": [
    "### Data Transformation: Corpus and Dictionary"
   ]
  },
  {
   "cell_type": "code",
   "execution_count": 7,
   "metadata": {
    "scrolled": false
   },
   "outputs": [
    {
     "name": "stdout",
     "output_type": "stream",
     "text": [
      "[[(0, 1), (1, 1), (2, 1), (3, 2), (4, 1), (5, 2), (6, 1), (7, 2), (8, 1), (9, 1), (10, 1), (11, 2), (12, 1), (13, 1), (14, 1), (15, 1), (16, 1), (17, 1), (18, 1), (19, 1), (20, 1), (21, 2), (22, 1), (23, 1), (24, 1)]]\n"
     ]
    }
   ],
   "source": [
    "## DTM building etc via gensim\n",
    "corpus2 = [[word for word in ' '.join(doc).split()] for doc in corpus1]  # word_tokenize first\n",
    "id2word = corpora.Dictionary(corpus2)  # Create Dictionary\n",
    "corpus = [id2word.doc2bow(text) for text in corpus2]  # Building gensim corpus. TF DTM creation.\n",
    "print(corpus[:1])  # View one doc in abstract form"
   ]
  },
  {
   "cell_type": "markdown",
   "metadata": {},
   "source": [
    "Gensim creates a unique id for each word in the document. The produced corpus shown above is a mapping of (word_id, word_frequency)."
   ]
  },
  {
   "cell_type": "markdown",
   "metadata": {},
   "source": [
    "### Base Model"
   ]
  },
  {
   "cell_type": "code",
   "execution_count": 8,
   "metadata": {},
   "outputs": [
    {
     "name": "stdout",
     "output_type": "stream",
     "text": [
      "Wall time: 8.72 s\n"
     ]
    }
   ],
   "source": [
    "%%time\n",
    "# Build LDA model\n",
    "lda_model = gensim.models.ldamodel.LdaModel(corpus=corpus,\n",
    "                                           id2word=id2word,\n",
    "                                           num_topics=4, \n",
    "                                           random_state=100,\n",
    "                                           update_every=1,\n",
    "                                           chunksize=10,\n",
    "                                           passes=10,\n",
    "                                           alpha='symmetric',\n",
    "                                           iterations=100,\n",
    "                                           per_word_topics=True)\n"
   ]
  },
  {
   "cell_type": "code",
   "execution_count": 9,
   "metadata": {},
   "outputs": [
    {
     "name": "stdout",
     "output_type": "stream",
     "text": [
      "[(0,\n",
      "  '0.024*\"internet\" + 0.015*\"also\" + 0.015*\"use\" + 0.014*\"include\" + '\n",
      "  '0.013*\"many\" + 0.013*\"field\" + 0.012*\"advertising\" + 0.011*\"network\" + '\n",
      "  '0.010*\"call\" + 0.009*\"allow\"'),\n",
      " (1,\n",
      "  '0.017*\"health\" + 0.014*\"include\" + 0.010*\"medical\" + 0.009*\"disease\" + '\n",
      "  '0.009*\"hospital\" + 0.008*\"medicine\" + 0.008*\"often\" + 0.008*\"also\" + '\n",
      "  '0.008*\"many\" + 0.007*\"person\"'),\n",
      " (2,\n",
      "  '0.033*\"use\" + 0.012*\"human\" + 0.012*\"system\" + 0.011*\"computer\" + '\n",
      "  '0.010*\"technology\" + 0.010*\"base\" + 0.009*\"example\" + 0.008*\"control\" + '\n",
      "  '0.008*\"knowledge\" + 0.008*\"ai\"'),\n",
      " (3,\n",
      "  '0.034*\"film\" + 0.017*\"first\" + 0.013*\"studio\" + 0.011*\"match\" + '\n",
      "  '0.010*\"year\" + 0.009*\"international\" + 0.009*\"make\" + 0.009*\"play\" + '\n",
      "  '0.009*\"team\" + 0.008*\"movie\"')]\n"
     ]
    }
   ],
   "source": [
    "from pprint import pprint\n",
    "pprint(lda_model.print_topics())\n"
   ]
  },
  {
   "cell_type": "markdown",
   "metadata": {},
   "source": [
    "#### What is the Dominant topic and its percentage contribution in each document"
   ]
  },
  {
   "cell_type": "code",
   "execution_count": 10,
   "metadata": {},
   "outputs": [],
   "source": [
    "sent_topics_df = pd.DataFrame()\n",
    "  # Get main topic in each document\n",
    "for i, row_list in enumerate(lda_model[corpus]):\n",
    "    row = row_list[0] if lda_model.per_word_topics else row_list  \n",
    "      \n",
    "  # print(row)\n",
    "    row = sorted(row, key=lambda x: (x[1]), reverse=True)\n",
    "  # Get the Dominant topic, Perc Contribution and Keywords for each document\n",
    "    for j, (topic_num, prop_topic) in enumerate(row):\n",
    "        if j == 0:# => dominant topic\n",
    "            wp = lda_model.show_topic(topic_num)\n",
    "            topic_keywords = \", \".join([word for word, prop in wp])\n",
    "            sent_topics_df = sent_topics_df.append(pd.Series([int(topic_num), round(prop_topic,4), topic_keywords]), ignore_index=True)\n",
    "        else:\n",
    "            break\n",
    "sent_topics_df.columns = ['Dominant_Topic', 'Perc_Contribution', 'Topic_Keywords']\n"
   ]
  },
  {
   "cell_type": "code",
   "execution_count": 11,
   "metadata": {},
   "outputs": [
    {
     "data": {
      "text/html": [
       "<div>\n",
       "<style scoped>\n",
       "    .dataframe tbody tr th:only-of-type {\n",
       "        vertical-align: middle;\n",
       "    }\n",
       "\n",
       "    .dataframe tbody tr th {\n",
       "        vertical-align: top;\n",
       "    }\n",
       "\n",
       "    .dataframe thead th {\n",
       "        text-align: right;\n",
       "    }\n",
       "</style>\n",
       "<table border=\"1\" class=\"dataframe\">\n",
       "  <thead>\n",
       "    <tr style=\"text-align: right;\">\n",
       "      <th></th>\n",
       "      <th>Dominant_Topic</th>\n",
       "      <th>Perc_Contribution</th>\n",
       "      <th>Topic_Keywords</th>\n",
       "    </tr>\n",
       "  </thead>\n",
       "  <tbody>\n",
       "    <tr>\n",
       "      <th>0</th>\n",
       "      <td>2.0</td>\n",
       "      <td>0.7893</td>\n",
       "      <td>use, human, system, computer, technology, base...</td>\n",
       "    </tr>\n",
       "    <tr>\n",
       "      <th>1</th>\n",
       "      <td>1.0</td>\n",
       "      <td>0.8557</td>\n",
       "      <td>health, include, medical, disease, hospital, m...</td>\n",
       "    </tr>\n",
       "    <tr>\n",
       "      <th>2</th>\n",
       "      <td>2.0</td>\n",
       "      <td>0.5134</td>\n",
       "      <td>use, human, system, computer, technology, base...</td>\n",
       "    </tr>\n",
       "    <tr>\n",
       "      <th>3</th>\n",
       "      <td>3.0</td>\n",
       "      <td>0.7881</td>\n",
       "      <td>film, first, studio, match, year, internationa...</td>\n",
       "    </tr>\n",
       "    <tr>\n",
       "      <th>4</th>\n",
       "      <td>2.0</td>\n",
       "      <td>0.7091</td>\n",
       "      <td>use, human, system, computer, technology, base...</td>\n",
       "    </tr>\n",
       "  </tbody>\n",
       "</table>\n",
       "</div>"
      ],
      "text/plain": [
       "   Dominant_Topic  Perc_Contribution  \\\n",
       "0             2.0             0.7893   \n",
       "1             1.0             0.8557   \n",
       "2             2.0             0.5134   \n",
       "3             3.0             0.7881   \n",
       "4             2.0             0.7091   \n",
       "\n",
       "                                      Topic_Keywords  \n",
       "0  use, human, system, computer, technology, base...  \n",
       "1  health, include, medical, disease, hospital, m...  \n",
       "2  use, human, system, computer, technology, base...  \n",
       "3  film, first, studio, match, year, internationa...  \n",
       "4  use, human, system, computer, technology, base...  "
      ]
     },
     "execution_count": 11,
     "metadata": {},
     "output_type": "execute_result"
    }
   ],
   "source": [
    "sent_topics_df.head()"
   ]
  },
  {
   "cell_type": "markdown",
   "metadata": {},
   "source": [
    "#### Word Clouds of Top N Keywords in Each Topic "
   ]
  },
  {
   "cell_type": "code",
   "execution_count": 12,
   "metadata": {},
   "outputs": [
    {
     "data": {
      "image/png": "[encoded data removed]",
      "text/plain": [
       "<Figure size 720x720 with 4 Axes>"
      ]
     },
     "metadata": {
      "needs_background": "light"
     },
     "output_type": "display_data"
    }
   ],
   "source": [
    "# 1. Wordcloud of Top N words in each topic\n",
    "from matplotlib import pyplot as plt\n",
    "from wordcloud import WordCloud, STOPWORDS\n",
    "import matplotlib.colors as mcolors\n",
    "\n",
    "cols = [color for name, color in mcolors.TABLEAU_COLORS.items()]  # more colors: 'mcolors.XKCD_COLORS'\n",
    "\n",
    "cloud = WordCloud(stopwords=stop_words,\n",
    "                  background_color='white',\n",
    "                  width=2500,\n",
    "                  height=1800,\n",
    "                  max_words=10,\n",
    "                  colormap='tab10',\n",
    "                  color_func=lambda *args, **kwargs: cols[i],\n",
    "                  prefer_horizontal=1.0)\n",
    "\n",
    "topics = lda_model.show_topics(formatted=False)\n",
    "\n",
    "fig, axes = plt.subplots(2, 2, figsize=(10,10), sharex=True, sharey=True)\n",
    "\n",
    "for i, ax in enumerate(axes.flatten()):\n",
    "    fig.add_subplot(ax)\n",
    "    topic_words = dict(topics[i][1])\n",
    "    cloud.generate_from_frequencies(topic_words, max_font_size=300)\n",
    "    plt.gca().imshow(cloud)\n",
    "    plt.gca().set_title('Topic ' + str(i), fontdict=dict(size=16))\n",
    "    plt.gca().axis('off')\n",
    "\n",
    "\n",
    "plt.subplots_adjust(wspace=0, hspace=0)\n",
    "plt.axis('off')\n",
    "plt.margins(x=0, y=0)\n",
    "plt.tight_layout()\n",
    "plt.show()"
   ]
  },
  {
   "cell_type": "markdown",
   "metadata": {},
   "source": [
    "### Compute Model Perplexity & Coherence Score\n",
    "\n",
    "Let's calculate baseline score"
   ]
  },
  {
   "cell_type": "code",
   "execution_count": 13,
   "metadata": {},
   "outputs": [
    {
     "name": "stdout",
     "output_type": "stream",
     "text": [
      "\n",
      "Coherence Score:  0.37145048377375545\n"
     ]
    }
   ],
   "source": [
    "from gensim.models import CoherenceModel\n",
    "# Compute Coherence Score\n",
    "coherence_model_lda = CoherenceModel(model=lda_model, texts=corpus1, dictionary=id2word, coherence='c_v')\n",
    "coherence_lda = coherence_model_lda.get_coherence()\n",
    "print('\\nCoherence Score: ', coherence_lda)"
   ]
  },
  {
   "cell_type": "markdown",
   "metadata": {},
   "source": [
    "### Visualize topics"
   ]
  },
  {
   "cell_type": "code",
   "execution_count": 14,
   "metadata": {},
   "outputs": [
    {
     "name": "stdout",
     "output_type": "stream",
     "text": [
      "Wall time: 2min 46s\n"
     ]
    },
    {
     "name": "stderr",
     "output_type": "stream",
     "text": [
      "C:\\Users\\31202\\AppData\\Local\\Continuum\\anaconda3\\lib\\site-packages\\pyLDAvis\\_prepare.py:257: FutureWarning: Sorting because non-concatenation axis is not aligned. A future version\n",
      "of pandas will change to not sort by default.\n",
      "\n",
      "To accept the future behavior, pass 'sort=False'.\n",
      "\n",
      "To retain the current behavior and silence the warning, pass 'sort=True'.\n",
      "\n",
      "  return pd.concat([default_term_info] + list(topic_dfs))\n"
     ]
    },
    {
     "data": {
      "text/html": [
       "\n",
       "<link rel=\"stylesheet\" type=\"text/css\" href=\"https://cdn.rawgit.com/bmabey/pyLDAvis/files/ldavis.v1.0.0.css\">\n",
       "\n",
       "\n",
       "<div id=\"ldavis_el847620191599316644510906588\"></div>\n",
       "<script type=\"text/javascript\">\n",
       "\n",
       "var ldavis_el847620191599316644510906588_data = {\"mdsDat\": {\"x\": [0.28131047251753044, -0.19215341862286942, -0.05547701877885421, -0.03368003511580675], \"y\": [0.09813827165775652, 0.20615974564442088, -0.08066292358023215, -0.22363509372194515], \"topics\": [1, 2, 3, 4], \"cluster\": [1, 1, 1, 1], \"Freq\": [32.38370895385742, 26.945632934570312, 21.339929580688477, 19.330734252929688]}, \"tinfo\": {\"Category\": [\"Default\", \"Default\", \"Default\", \"Default\", \"Default\", \"Default\", \"Default\", \"Default\", \"Default\", \"Default\", \"Default\", \"Default\", \"Default\", \"Default\", \"Default\", \"Default\", \"Default\", \"Default\", \"Default\", \"Default\", \"Default\", \"Default\", \"Default\", \"Default\", \"Default\", \"Default\", \"Default\", \"Default\", \"Default\", \"Default\", \"Topic1\", \"Topic1\", \"Topic1\", \"Topic1\", \"Topic1\", \"Topic1\", \"Topic1\", \"Topic1\", \"Topic1\", \"Topic1\", \"Topic1\", \"Topic1\", \"Topic1\", \"Topic1\", \"Topic1\", \"Topic1\", \"Topic1\", \"Topic1\", \"Topic1\", \"Topic1\", \"Topic1\", \"Topic1\", \"Topic1\", \"Topic1\", \"Topic1\", \"Topic1\", \"Topic1\", \"Topic1\", \"Topic1\", \"Topic1\", \"Topic1\", \"Topic1\", \"Topic1\", \"Topic1\", \"Topic1\", \"Topic1\", \"Topic1\", \"Topic1\", \"Topic1\", \"Topic2\", \"Topic2\", \"Topic2\", \"Topic2\", \"Topic2\", \"Topic2\", \"Topic2\", \"Topic2\", \"Topic2\", \"Topic2\", \"Topic2\", \"Topic2\", \"Topic2\", \"Topic2\", \"Topic2\", \"Topic2\", \"Topic2\", \"Topic2\", \"Topic2\", \"Topic2\", \"Topic2\", \"Topic2\", \"Topic2\", \"Topic2\", \"Topic2\", \"Topic2\", \"Topic2\", \"Topic2\", \"Topic2\", \"Topic2\", \"Topic2\", \"Topic2\", \"Topic2\", \"Topic2\", \"Topic2\", \"Topic2\", \"Topic2\", \"Topic2\", \"Topic2\", \"Topic2\", \"Topic3\", \"Topic3\", \"Topic3\", \"Topic3\", \"Topic3\", \"Topic3\", \"Topic3\", \"Topic3\", \"Topic3\", \"Topic3\", \"Topic3\", \"Topic3\", \"Topic3\", \"Topic3\", \"Topic3\", \"Topic3\", \"Topic3\", \"Topic3\", \"Topic3\", \"Topic3\", \"Topic3\", \"Topic3\", \"Topic3\", \"Topic3\", \"Topic3\", \"Topic3\", \"Topic3\", \"Topic3\", \"Topic3\", \"Topic3\", \"Topic3\", \"Topic3\", \"Topic3\", \"Topic3\", \"Topic3\", \"Topic3\", \"Topic3\", \"Topic3\", \"Topic3\", \"Topic4\", \"Topic4\", \"Topic4\", \"Topic4\", \"Topic4\", \"Topic4\", \"Topic4\", \"Topic4\", \"Topic4\", \"Topic4\", \"Topic4\", \"Topic4\", \"Topic4\", \"Topic4\", \"Topic4\", \"Topic4\", \"Topic4\", \"Topic4\", \"Topic4\", \"Topic4\", \"Topic4\", \"Topic4\", \"Topic4\", \"Topic4\", \"Topic4\", \"Topic4\", \"Topic4\", \"Topic4\", \"Topic4\", \"Topic4\", \"Topic4\", \"Topic4\", \"Topic4\", \"Topic4\", \"Topic4\", \"Topic4\", \"Topic4\", \"Topic4\", \"Topic4\", \"Topic4\", \"Topic4\", \"Topic4\", \"Topic4\", \"Topic4\", \"Topic4\"], \"Freq\": [569.0, 606.0, 242.0, 281.0, 190.0, 226.0, 305.0, 131.0, 253.0, 160.0, 177.0, 218.0, 184.0, 145.0, 115.0, 120.0, 183.0, 135.0, 110.0, 150.0, 100.0, 147.0, 104.0, 144.0, 100.0, 117.0, 116.0, 91.0, 91.0, 133.0, 568.6801147460938, 280.5210266113281, 226.10040283203125, 184.3527069091797, 144.35414123535156, 149.6694793701172, 146.65447998046875, 132.4160919189453, 121.13125610351562, 107.583251953125, 122.91252899169922, 95.71015930175781, 95.17667388916016, 86.19247436523438, 81.3464584350586, 82.50337982177734, 77.2486801147461, 79.13903045654297, 77.90936279296875, 76.42143249511719, 82.28951263427734, 90.65641021728516, 68.841796875, 85.16326904296875, 64.03295135498047, 59.1081428527832, 58.085365295410156, 61.730682373046875, 57.40610122680664, 55.5780143737793, 75.86778259277344, 63.27546691894531, 118.45423126220703, 65.58805084228516, 169.0951690673828, 147.21881103515625, 108.3087158203125, 94.47410583496094, 98.75930786132812, 160.05801391601562, 144.85081481933594, 134.45513916015625, 116.21942901611328, 116.65774536132812, 108.73919677734375, 104.15465545654297, 102.16484069824219, 95.78714752197266, 90.93565368652344, 89.77510833740234, 106.71399688720703, 87.083740234375, 82.50816345214844, 81.04458618164062, 72.18505859375, 73.66417694091797, 72.39306640625, 78.19010925292969, 68.62783813476562, 65.27725219726562, 63.60881805419922, 60.543636322021484, 55.40703582763672, 53.679439544677734, 76.99137878417969, 49.880523681640625, 48.584041595458984, 51.6201286315918, 49.281455993652344, 115.04991912841797, 52.34674835205078, 172.48812866210938, 53.35664749145508, 168.5839385986328, 120.31837463378906, 454.9609375, 79.75448608398438, 67.01567840576172, 69.01567840576172, 189.41287231445312, 110.0455322265625, 104.15938568115234, 99.6863021850586, 88.65031433105469, 74.25099182128906, 72.30824279785156, 82.02825164794922, 78.55485534667969, 70.44239044189453, 66.21208190917969, 70.19025421142578, 67.54972839355469, 63.88045883178711, 72.68856048583984, 61.42587661743164, 60.519134521484375, 61.85456085205078, 61.989471435546875, 56.55232238769531, 56.762054443359375, 61.649845123291016, 62.4068603515625, 50.92933654785156, 44.5687141418457, 54.249542236328125, 41.229034423828125, 45.82500076293945, 39.89940643310547, 40.46278381347656, 59.51110076904297, 58.41886901855469, 70.89488983154297, 49.57771301269531, 150.6346893310547, 87.69133758544922, 84.8647689819336, 87.52794647216797, 57.21406555175781, 241.4112091064453, 130.95150756835938, 114.34510803222656, 99.25653076171875, 90.79071807861328, 90.41205596923828, 76.0331802368164, 67.09270477294922, 70.1783218383789, 65.4719009399414, 53.58348846435547, 50.89479446411133, 49.706180572509766, 44.683067321777344, 43.71747970581055, 40.51802062988281, 46.37126922607422, 44.3383903503418, 42.12920379638672, 38.28414535522461, 40.00719451904297, 38.726409912109375, 40.82038116455078, 84.49042510986328, 36.37343215942383, 44.27030944824219, 37.8841667175293, 35.70509719848633, 36.005470275878906, 35.343875885009766, 117.47753143310547, 50.17514419555664, 53.267242431640625, 53.733150482177734, 47.71405029296875, 49.01188278198242, 61.792388916015625, 153.92506408691406, 94.18772888183594, 132.74200439453125, 136.97866821289062, 150.71151733398438, 46.02789306640625, 50.86683654785156, 50.899070739746094], \"Term\": [\"film\", \"use\", \"internet\", \"first\", \"health\", \"studio\", \"include\", \"field\", \"also\", \"computer\", \"human\", \"many\", \"match\", \"technology\", \"network\", \"advertising\", \"system\", \"base\", \"medical\", \"international\", \"call\", \"play\", \"disease\", \"team\", \"hospital\", \"control\", \"knowledge\", \"web\", \"feature\", \"movie\", \"film\", \"first\", \"studio\", \"match\", \"team\", \"international\", \"play\", \"movie\", \"test\", \"run\", \"television\", \"cricket\", \"universal\", \"theater\", \"production\", \"game\", \"picture\", \"score\", \"remain\", \"record\", \"target\", \"begin\", \"award\", \"period\", \"camera\", \"bat\", \"ball\", \"day\", \"start\", \"player\", \"move\", \"produce\", \"take\", \"old\", \"year\", \"make\", \"time\", \"early\", \"become\", \"computer\", \"technology\", \"base\", \"knowledge\", \"control\", \"process\", \"method\", \"mean\", \"learn\", \"datum\", \"input\", \"increase\", \"set\", \"machine\", \"classification\", \"industrial\", \"tool\", \"way\", \"word\", \"function\", \"goal\", \"model\", \"information\", \"language\", \"intelligence\", \"search\", \"theory\", \"logic\", \"output\", \"art\", \"ai\", \"different\", \"human\", \"view\", \"system\", \"example\", \"use\", \"problem\", \"science\", \"high\", \"health\", \"medical\", \"disease\", \"hospital\", \"medicine\", \"care\", \"age\", \"person\", \"consider\", \"work\", \"social\", \"area\", \"practice\", \"modern\", \"well\", \"life\", \"cause\", \"child\", \"policy\", \"people\", \"population\", \"public\", \"research\", \"physical\", \"safety\", \"general\", \"patient\", \"affect\", \"culture\", \"particular\", \"describe\", \"labor\", \"traditional\", \"increasingly\", \"include\", \"often\", \"many\", \"also\", \"know\", \"internet\", \"field\", \"network\", \"call\", \"web\", \"feature\", \"term\", \"group\", \"marketing\", \"category\", \"reduce\", \"user\", \"country\", \"access\", \"industry\", \"rule\", \"raise\", \"global\", \"long\", \"online\", \"report\", \"communication\", \"operate\", \"large\", \"email\", \"product\", \"mobile\", \"buy\", \"small\", \"entertainment\", \"advertising\", \"reason\", \"stone\", \"device\", \"type\", \"rate\", \"service\", \"also\", \"allow\", \"many\", \"include\", \"use\", \"exist\", \"provide\", \"however\"], \"Total\": [569.0, 606.0, 242.0, 281.0, 190.0, 226.0, 305.0, 131.0, 253.0, 160.0, 177.0, 218.0, 184.0, 145.0, 115.0, 120.0, 183.0, 135.0, 110.0, 150.0, 100.0, 147.0, 104.0, 144.0, 100.0, 117.0, 116.0, 91.0, 91.0, 133.0, 569.31005859375, 281.1804504394531, 226.7308807373047, 184.97512817382812, 144.97328186035156, 150.3400421142578, 147.31898498535156, 133.06121826171875, 121.81427764892578, 108.22696685791016, 123.67334747314453, 96.33180236816406, 95.81344604492188, 86.841064453125, 81.98389434814453, 83.15325927734375, 77.8775634765625, 79.78565216064453, 78.5855941772461, 77.08846282958984, 83.00855255126953, 91.45604705810547, 69.47102355957031, 85.97903442382812, 64.66039276123047, 59.728607177734375, 58.709861755371094, 62.39875411987305, 58.04499816894531, 56.217288970947266, 76.75668334960938, 64.07062530517578, 123.95355224609375, 66.79931640625, 215.92227172851562, 191.43667602539062, 135.1923370361328, 123.5479507446289, 133.73431396484375, 160.7437286376953, 145.52613830566406, 135.20616149902344, 116.9051742553711, 117.35619354248047, 109.41968536376953, 104.86624908447266, 102.87509155273438, 96.45903778076172, 91.60527038574219, 90.43682098388672, 107.55181884765625, 87.77312469482422, 83.17596435546875, 81.76036071777344, 72.85914611816406, 74.36359405517578, 73.1295394897461, 79.00019073486328, 69.35899353027344, 65.97506713867188, 64.29979705810547, 61.25969314575195, 56.102596282958984, 54.36897659301758, 78.0003662109375, 50.54804229736328, 49.24277877807617, 52.33467102050781, 49.970767974853516, 116.78800964355469, 53.07957077026367, 177.61695861816406, 54.138885498046875, 183.8165740966797, 133.80599975585938, 606.162841796875, 96.76889038085938, 80.61275482177734, 94.50314331054688, 190.0549774169922, 110.68619537353516, 104.8020248413086, 100.32908630371094, 89.28779602050781, 74.88798522949219, 72.9674072265625, 82.78617858886719, 79.29953002929688, 71.1478271484375, 66.8758544921875, 70.91595458984375, 68.25834655761719, 64.5666732788086, 73.49108123779297, 62.10971450805664, 61.193695068359375, 62.54737091064453, 62.70171356201172, 57.21096420288086, 57.440181732177734, 62.39313507080078, 63.21189498901367, 51.61856460571289, 45.23453903198242, 55.073116302490234, 41.87578201293945, 46.570247650146484, 40.57305145263672, 41.14643478393555, 60.63325881958008, 60.40049362182617, 74.2040786743164, 51.00775146484375, 305.20989990234375, 157.68861389160156, 218.12709045410156, 253.6328125, 174.83441162109375, 242.0838623046875, 131.71717834472656, 115.02156829833984, 100.01884460449219, 91.49703979492188, 91.14659881591797, 76.79273986816406, 67.83972930908203, 71.07742309570312, 66.32167053222656, 54.30915451049805, 51.60198974609375, 50.41712188720703, 45.37276840209961, 44.45363998413086, 41.20942306518555, 47.16838455200195, 45.10374450683594, 42.86540985107422, 38.97780990600586, 40.73783874511719, 39.44257354736328, 41.57871627807617, 86.09501647949219, 37.06483840942383, 45.11790466308594, 38.61432647705078, 36.40314483642578, 36.72277069091797, 36.05370330810547, 120.93598175048828, 51.32597732543945, 54.660797119140625, 55.3514289855957, 49.05182647705078, 50.57431411743164, 68.28875732421875, 253.6328125, 133.3406524658203, 218.12709045410156, 305.20989990234375, 606.162841796875, 50.209774017333984, 67.6011962890625, 109.87559509277344], \"loglift\": [30.0, 29.0, 28.0, 27.0, 26.0, 25.0, 24.0, 23.0, 22.0, 21.0, 20.0, 19.0, 18.0, 17.0, 16.0, 15.0, 14.0, 13.0, 12.0, 11.0, 10.0, 9.0, 8.0, 7.0, 6.0, 5.0, 4.0, 3.0, 2.0, 1.0, 1.1263999938964844, 1.1252000331878662, 1.1246999502182007, 1.1240999698638916, 1.1232000589370728, 1.1230000257492065, 1.1230000257492065, 1.1226999759674072, 1.121899962425232, 1.121500015258789, 1.1212999820709229, 1.121000051498413, 1.1208000183105469, 1.1200000047683716, 1.1196999549865723, 1.1196999549865723, 1.1194000244140625, 1.1194000244140625, 1.118899941444397, 1.1188000440597534, 1.1188000440597534, 1.1187000274658203, 1.118399977684021, 1.1180000305175781, 1.117799997329712, 1.1171000003814697, 1.1167999505996704, 1.1167999505996704, 1.1164000034332275, 1.1160999536514282, 1.1159000396728516, 1.1150000095367432, 1.0821000337600708, 1.1092000007629395, 0.8830999732017517, 0.8648999929428101, 0.9057999849319458, 0.8592000007629395, 0.8242999911308289, 1.3071000576019287, 1.3066999912261963, 1.305799961090088, 1.3055000305175781, 1.305400013923645, 1.3050999641418457, 1.3044999837875366, 1.3043999671936035, 1.3043999671936035, 1.3040000200271606, 1.3040000200271606, 1.3035000562667847, 1.3035000562667847, 1.3033000230789185, 1.3026000261306763, 1.3020999431610107, 1.301900029182434, 1.301200032234192, 1.3009999990463257, 1.3007999658584595, 1.3006999492645264, 1.3005000352859497, 1.2996000051498413, 1.2989000082015991, 1.2985999584197998, 1.29830002784729, 1.2980999946594238, 1.2978999614715576, 1.2976000308990479, 1.2975000143051147, 1.2963999509811401, 1.2973999977111816, 1.281999945640564, 1.2968000173568726, 1.2247999906539917, 1.2051000595092773, 1.024399995803833, 1.1180000305175781, 1.1266000270843506, 0.996999979019165, 1.541200041770935, 1.5388000011444092, 1.5384000539779663, 1.5382000207901, 1.5374000072479248, 1.5360000133514404, 1.5355000495910645, 1.5354000329971313, 1.5351999998092651, 1.534600019454956, 1.534600019454956, 1.5342999696731567, 1.5341999530792236, 1.5339000225067139, 1.5335999727249146, 1.5334999561309814, 1.5334999561309814, 1.5334999561309814, 1.5332000255584717, 1.5329999923706055, 1.5326999425888062, 1.5326000452041626, 1.5318000316619873, 1.5311000347137451, 1.5298000574111938, 1.5295000076293945, 1.5290000438690186, 1.528499960899353, 1.5277999639511108, 1.5277999639511108, 1.5259000062942505, 1.511199951171875, 1.4989999532699585, 1.5161999464035034, 0.8384000062942505, 0.9577999711036682, 0.600600004196167, 0.48069998621940613, 0.4275999963283539, 1.6406999826431274, 1.6375999450683594, 1.6375999450683594, 1.6358000040054321, 1.635699987411499, 1.6354000568389893, 1.6334999799728394, 1.6324000358581543, 1.6306999921798706, 1.6305999755859375, 1.6299999952316284, 1.629699945449829, 1.6292999982833862, 1.6282000541687012, 1.6267999410629272, 1.6266000270843506, 1.6263999938964844, 1.6263999938964844, 1.6261999607086182, 1.625499963760376, 1.6253999471664429, 1.6252000331878662, 1.625100016593933, 1.6246999502182007, 1.6246000528335571, 1.624500036239624, 1.624400019645691, 1.6240999698638916, 1.6237000226974487, 1.6236000061035156, 1.6145000457763672, 1.6208000183105469, 1.6175999641418457, 1.613800048828125, 1.6158000230789185, 1.6121000051498413, 1.5434999465942383, 1.1440999507904053, 1.2958999872207642, 1.1468000411987305, 0.8422999978065491, 0.2517000138759613, 1.55649995803833, 1.3590999841690063, 0.8740000128746033], \"logprob\": [30.0, 29.0, 28.0, 27.0, 26.0, 25.0, 24.0, 23.0, 22.0, 21.0, 20.0, 19.0, 18.0, 17.0, 16.0, 15.0, 14.0, 13.0, 12.0, 11.0, 10.0, 9.0, 8.0, 7.0, 6.0, 5.0, 4.0, 3.0, 2.0, 1.0, -3.384500026702881, -4.091100215911865, -4.30679988861084, -4.510900020599365, -4.755499839782715, -4.719399929046631, -4.739699840545654, -4.841800212860107, -4.9309000968933105, -5.049499988555908, -4.916299819946289, -5.166500091552734, -5.171999931335449, -5.271200180053711, -5.329100131988525, -5.314899921417236, -5.380799770355225, -5.356599807739258, -5.372200012207031, -5.391499996185303, -5.317500114440918, -5.220699787139893, -5.495999813079834, -5.283199787139893, -5.568399906158447, -5.648399829864502, -5.665900230407715, -5.605000019073486, -5.677599906921387, -5.710000038146973, -5.398799896240234, -5.5802998542785645, -4.9532999992370605, -5.544400215148926, -4.597300052642822, -4.735899925231934, -5.042799949645996, -5.179500102996826, -5.1350998878479, -4.468400001525879, -4.56820011138916, -4.6427001953125, -4.78849983215332, -4.7846999168396, -4.855000019073486, -4.898099899291992, -4.917399883270264, -4.981800079345703, -5.03380012512207, -5.046599864959717, -4.873799800872803, -5.077099800109863, -5.131100177764893, -5.14900016784668, -5.264699935913086, -5.2444000244140625, -5.2617998123168945, -5.184800148010254, -5.315299987792969, -5.365300178527832, -5.391200065612793, -5.4405999183654785, -5.529200077056885, -5.5609002113342285, -5.200300216674805, -5.634300231933594, -5.660699844360352, -5.599999904632568, -5.646399974822998, -4.798600196838379, -5.586100101470947, -4.393599987030029, -5.566999912261963, -4.416500091552734, -4.753799915313721, -3.4237000942230225, -5.164999961853027, -5.339000225067139, -5.309599876403809, -4.066800117492676, -4.609799861907959, -4.66480016708374, -4.708700180053711, -4.826000213623047, -5.003300189971924, -5.029799938201904, -4.903600215911865, -4.946899890899658, -5.0559000968933105, -5.117800235748291, -5.059500217437744, -5.097799777984619, -5.15369987487793, -5.024499893188477, -5.19290018081665, -5.207799911499023, -5.1859002113342285, -5.183700084686279, -5.2754998207092285, -5.2718000411987305, -5.189199924468994, -5.177000045776367, -5.380300045013428, -5.513700008392334, -5.3171000480651855, -5.591599941253662, -5.485899925231934, -5.624300003051758, -5.610300064086914, -5.2245001792907715, -5.243100166320801, -5.049499988555908, -5.407199859619141, -4.295899868011475, -4.836900234222412, -4.869699954986572, -4.838799953460693, -5.263899803161621, -3.7253000736236572, -4.336999893188477, -4.472599983215332, -4.614099979400635, -4.7032999992370605, -4.707399845123291, -4.88070011138916, -5.005799770355225, -4.9608001708984375, -5.030200004577637, -5.230599880218506, -5.282100200653076, -5.305699825286865, -5.412199974060059, -5.434100151062012, -5.5100998878479, -5.375100135803223, -5.420000076293945, -5.471099853515625, -5.566800117492676, -5.522799968719482, -5.555300235748291, -5.502600193023682, -4.775199890136719, -5.618000030517578, -5.421500205993652, -5.577300071716309, -5.636499881744385, -5.628200054168701, -5.646699905395508, -4.4456000328063965, -5.296299934387207, -5.236499786376953, -5.227799892425537, -5.34660005569458, -5.319799900054932, -5.0879998207092285, -4.1753997802734375, -4.666500091552734, -4.323400020599365, -4.291999816894531, -4.196499824523926, -5.382599830627441, -5.282599925994873, -5.2820000648498535]}, \"token.table\": {\"Topic\": [4, 1, 2, 3, 4, 3, 3, 2, 4, 2, 4, 2, 3, 4, 3, 2, 1, 1, 2, 1, 1, 4, 1, 4, 4, 1, 3, 4, 3, 3, 2, 4, 2, 3, 2, 4, 1, 3, 2, 1, 2, 3, 2, 4, 2, 3, 1, 2, 4, 4, 2, 3, 3, 4, 4, 4, 1, 1, 2, 1, 3, 4, 2, 4, 3, 1, 2, 3, 1, 3, 4, 2, 3, 1, 3, 4, 2, 3, 4, 2, 4, 2, 2, 2, 1, 4, 1, 2, 3, 2, 1, 2, 3, 4, 2, 1, 4, 2, 3, 2, 4, 2, 1, 4, 3, 4, 4, 1, 2, 3, 3, 2, 4, 2, 3, 1, 1, 4, 1, 2, 3, 1, 3, 4, 4, 2, 3, 3, 3, 1, 3, 3, 1, 1, 1, 3, 3, 3, 2, 3, 2, 1, 4, 1, 3, 4, 3, 4, 1, 4, 2, 4, 1, 4, 1, 4, 3, 4, 1, 3, 2, 3, 1, 2, 4, 3, 4, 2, 4, 3, 1, 3, 4, 1, 2, 3, 1, 4, 1, 1, 2, 1, 4, 1, 1, 2, 1, 3, 2, 2, 3, 2, 4, 1, 2, 4, 4, 2, 2, 4, 3, 2, 3, 1, 3], \"Freq\": [0.9917843341827393, 0.016537675634026527, 0.008268837817013264, 0.008268837817013264, 0.9674540162086487, 0.9877551198005676, 0.9867419004440308, 0.9846901297569275, 0.008562522940337658, 0.29248395562171936, 0.7049612998962402, 0.04731249064207077, 0.3469582498073578, 0.6071769595146179, 0.9870839715003967, 0.980573296546936, 0.9932198524475098, 0.9879089593887329, 0.9910790920257568, 0.9878013730049133, 0.7402737140655518, 0.2542354166507721, 0.9950134754180908, 0.988925576210022, 0.9898134469985962, 0.9897867441177368, 0.9881424903869629, 0.9800718426704407, 0.9968346953392029, 0.9912487268447876, 0.9907001256942749, 0.9887793064117432, 0.9953731894493103, 0.9962227940559387, 0.9969648718833923, 0.9917265772819519, 0.9965556263923645, 0.9858760833740234, 0.9933926463127136, 0.993609607219696, 0.01649259775876999, 0.9895558953285217, 0.01806638017296791, 0.9755845665931702, 0.9796612858772278, 0.992347240447998, 0.7608382105827332, 0.234726682305336, 0.9712709188461304, 0.9707740545272827, 0.8968207836151123, 0.09715558588504791, 0.07966576516628265, 0.9161562919616699, 0.9874202609062195, 0.9945551753044128, 0.9994553923606873, 0.9993582367897034, 0.9948241114616394, 0.9981569051742554, 0.9805147051811218, 0.9755287766456604, 0.9852206707000732, 0.9876218438148499, 0.9944490790367126, 0.26454147696495056, 0.7301344275474548, 0.9967199563980103, 0.42775648832321167, 0.10011322051286697, 0.46416130661964417, 0.9683759808540344, 0.028150465339422226, 0.05569937452673912, 0.4947414994239807, 0.4488714039325714, 0.9948692917823792, 0.9802431464195251, 0.019604863598942757, 0.9882081151008606, 0.9897952079772949, 0.9957607984542847, 0.9951698780059814, 0.9932134747505188, 0.9977381825447083, 0.9955227971076965, 0.4289773404598236, 0.245947003364563, 0.32602277398109436, 0.9922571778297424, 0.016556156799197197, 0.016556156799197197, 0.9602570533752441, 0.016556156799197197, 0.9803467988967896, 0.01161507423967123, 0.9756662249565125, 0.995241105556488, 0.9821329712867737, 0.9950697422027588, 0.9798110127449036, 0.9978844523429871, 0.7678779363632202, 0.22984100878238678, 0.3896810710430145, 0.6097362637519836, 0.9848415851593018, 0.9947283267974854, 0.9914936423301697, 0.9938005208969116, 0.9967767596244812, 0.9917395114898682, 0.9840906858444214, 0.9953374862670898, 0.9912234544754028, 0.9901418089866638, 0.9920246005058289, 0.9911184906959534, 0.06975772976875305, 0.36781349778175354, 0.5580618381500244, 0.9880340695381165, 0.014970213174819946, 0.9749136567115784, 0.9860814213752747, 0.9936051964759827, 0.9721376895904541, 0.9790862202644348, 0.9963124990463257, 0.9886131286621094, 0.9905034899711609, 0.9880166053771973, 0.9887315034866333, 0.9978347420692444, 0.9961348176002502, 0.9888086915016174, 0.9923366904258728, 0.9962151646614075, 0.8267119526863098, 0.17567628622055054, 0.9961644411087036, 0.983289897441864, 0.9752225875854492, 0.987998902797699, 0.2366822063922882, 0.754424512386322, 0.9936990737915039, 0.9752295017242432, 0.019772883504629135, 0.9688712954521179, 0.019483311101794243, 0.9741655588150024, 0.9858803153038025, 0.9943075180053711, 0.9925483465194702, 0.9818881154060364, 0.980828046798706, 0.9949181079864502, 0.9979028701782227, 0.9948150515556335, 0.8311339616775513, 0.1612648069858551, 0.9901529550552368, 0.9871748685836792, 0.012820452451705933, 0.08786219358444214, 0.9079093337059021, 0.9911918044090271, 0.9803181886672974, 0.9869032502174377, 0.9819967746734619, 0.018294647336006165, 0.9696162939071655, 0.9967764616012573, 0.9193947911262512, 0.08160308748483658, 0.9519695043563843, 0.040337689220905304, 0.98785001039505, 0.9932864904403687, 0.9963845610618591, 0.9945554137229919, 0.9896768927574158, 0.9933153986930847, 0.9903149008750916, 0.9891579747200012, 0.7988618612289429, 0.19231858849525452, 0.9951105713844299, 0.040429044514894485, 0.9568207263946533, 0.020386600866913795, 0.9785568118095398, 0.9915100932121277, 0.7506234049797058, 0.2491079717874527, 0.9883340001106262, 0.9789636135101318, 0.9845542907714844, 0.9945676922798157, 0.9933177828788757, 0.9873393774032593, 0.9838669896125793, 0.7826890349388123, 0.21303962171077728], \"Term\": [\"access\", \"advertising\", \"advertising\", \"advertising\", \"advertising\", \"affect\", \"age\", \"ai\", \"ai\", \"allow\", \"allow\", \"also\", \"also\", \"also\", \"area\", \"art\", \"award\", \"ball\", \"base\", \"bat\", \"become\", \"become\", \"begin\", \"buy\", \"call\", \"camera\", \"care\", \"category\", \"cause\", \"child\", \"classification\", \"communication\", \"computer\", \"consider\", \"control\", \"country\", \"cricket\", \"culture\", \"datum\", \"day\", \"describe\", \"describe\", \"device\", \"device\", \"different\", \"disease\", \"early\", \"early\", \"email\", \"entertainment\", \"example\", \"example\", \"exist\", \"exist\", \"feature\", \"field\", \"film\", \"first\", \"function\", \"game\", \"general\", \"global\", \"goal\", \"group\", \"health\", \"high\", \"high\", \"hospital\", \"however\", \"however\", \"however\", \"human\", \"human\", \"include\", \"include\", \"include\", \"increase\", \"increasingly\", \"increasingly\", \"industrial\", \"industry\", \"information\", \"input\", \"intelligence\", \"international\", \"internet\", \"know\", \"know\", \"know\", \"knowledge\", \"labor\", \"labor\", \"labor\", \"labor\", \"language\", \"large\", \"large\", \"learn\", \"life\", \"logic\", \"long\", \"machine\", \"make\", \"make\", \"many\", \"many\", \"marketing\", \"match\", \"mean\", \"medical\", \"medicine\", \"method\", \"mobile\", \"model\", \"modern\", \"move\", \"movie\", \"network\", \"often\", \"often\", \"often\", \"old\", \"old\", \"online\", \"operate\", \"output\", \"particular\", \"patient\", \"people\", \"period\", \"person\", \"physical\", \"picture\", \"play\", \"player\", \"policy\", \"population\", \"practice\", \"problem\", \"problem\", \"process\", \"produce\", \"product\", \"production\", \"provide\", \"provide\", \"public\", \"raise\", \"rate\", \"rate\", \"reason\", \"reason\", \"record\", \"reduce\", \"remain\", \"report\", \"research\", \"rule\", \"run\", \"safety\", \"science\", \"science\", \"score\", \"search\", \"search\", \"service\", \"service\", \"set\", \"small\", \"social\", \"start\", \"stone\", \"stone\", \"studio\", \"system\", \"system\", \"take\", \"take\", \"target\", \"team\", \"technology\", \"television\", \"term\", \"test\", \"theater\", \"theory\", \"time\", \"time\", \"tool\", \"traditional\", \"traditional\", \"type\", \"type\", \"universal\", \"use\", \"use\", \"user\", \"view\", \"way\", \"web\", \"well\", \"word\", \"work\", \"year\", \"year\"]}, \"R\": 30, \"lambda.step\": 0.01, \"plot.opts\": {\"xlab\": \"PC1\", \"ylab\": \"PC2\"}, \"topic.order\": [4, 3, 2, 1]};\n",
       "\n",
       "function LDAvis_load_lib(url, callback){\n",
       "  var s = document.createElement('script');\n",
       "  s.src = url;\n",
       "  s.async = true;\n",
       "  s.onreadystatechange = s.onload = callback;\n",
       "  s.onerror = function(){console.warn(\"failed to load library \" + url);};\n",
       "  document.getElementsByTagName(\"head\")[0].appendChild(s);\n",
       "}\n",
       "\n",
       "if(typeof(LDAvis) !== \"undefined\"){\n",
       "   // already loaded: just create the visualization\n",
       "   !function(LDAvis){\n",
       "       new LDAvis(\"#\" + \"ldavis_el847620191599316644510906588\", ldavis_el847620191599316644510906588_data);\n",
       "   }(LDAvis);\n",
       "}else if(typeof define === \"function\" && define.amd){\n",
       "   // require.js is available: use it to load d3/LDAvis\n",
       "   require.config({paths: {d3: \"https://cdnjs.cloudflare.com/ajax/libs/d3/3.5.5/d3.min\"}});\n",
       "   require([\"d3\"], function(d3){\n",
       "      window.d3 = d3;\n",
       "      LDAvis_load_lib(\"https://cdn.rawgit.com/bmabey/pyLDAvis/files/ldavis.v1.0.0.js\", function(){\n",
       "        new LDAvis(\"#\" + \"ldavis_el847620191599316644510906588\", ldavis_el847620191599316644510906588_data);\n",
       "      });\n",
       "    });\n",
       "}else{\n",
       "    // require.js not available: dynamically load d3 & LDAvis\n",
       "    LDAvis_load_lib(\"https://cdnjs.cloudflare.com/ajax/libs/d3/3.5.5/d3.min.js\", function(){\n",
       "         LDAvis_load_lib(\"https://cdn.rawgit.com/bmabey/pyLDAvis/files/ldavis.v1.0.0.js\", function(){\n",
       "                 new LDAvis(\"#\" + \"ldavis_el847620191599316644510906588\", ldavis_el847620191599316644510906588_data);\n",
       "            })\n",
       "         });\n",
       "}\n",
       "</script>"
      ],
      "text/plain": [
       "PreparedData(topic_coordinates=              x         y  topics  cluster       Freq\n",
       "topic                                                \n",
       "3      0.281310  0.098138       1        1  32.383709\n",
       "2     -0.192153  0.206160       2        1  26.945633\n",
       "1     -0.055477 -0.080663       3        1  21.339930\n",
       "0     -0.033680 -0.223635       4        1  19.330734, topic_info=    Category        Freq      Term       Total  loglift  logprob\n",
       "218  Default  569.000000      film  569.000000  30.0000  30.0000\n",
       "24   Default  606.000000       use  606.000000  29.0000  29.0000\n",
       "546  Default  242.000000  internet  242.000000  28.0000  28.0000\n",
       "334  Default  281.000000     first  281.000000  27.0000  27.0000\n",
       "295  Default  190.000000    health  190.000000  26.0000  26.0000\n",
       "..       ...         ...       ...         ...      ...      ...\n",
       "50    Topic4  136.978668   include  305.209900   0.8423  -4.2920\n",
       "24    Topic4  150.711517       use  606.162842   0.2517  -4.1965\n",
       "332   Topic4   46.027893     exist   50.209774   1.5565  -5.3826\n",
       "576   Topic4   50.866837   provide   67.601196   1.3591  -5.2826\n",
       "145   Topic4   50.899071   however  109.875595   0.8740  -5.2820\n",
       "\n",
       "[193 rows x 6 columns], token_table=      Topic      Freq         Term\n",
       "term                              \n",
       "1049      4  0.991784       access\n",
       "3764      1  0.016538  advertising\n",
       "3764      2  0.008269  advertising\n",
       "3764      3  0.008269  advertising\n",
       "3764      4  0.967454  advertising\n",
       "...     ...       ...          ...\n",
       "272       3  0.993318         well\n",
       "570       2  0.987339         word\n",
       "273       3  0.983867         work\n",
       "160       1  0.782689         year\n",
       "160       3  0.213040         year\n",
       "\n",
       "[205 rows x 3 columns], R=30, lambda_step=0.01, plot_opts={'xlab': 'PC1', 'ylab': 'PC2'}, topic_order=[4, 3, 2, 1])"
      ]
     },
     "execution_count": 14,
     "metadata": {},
     "output_type": "execute_result"
    }
   ],
   "source": [
    "%%time\n",
    "import pyLDAvis.gensim\n",
    "pyLDAvis.enable_notebook()\n",
    "vis = pyLDAvis.gensim.prepare(lda_model, corpus, dictionary=lda_model.id2word)\n",
    "# pyLDAvis.save_html(vis, 'lda.html') # for saving visuaization\n",
    "vis\n",
    "# pyLDAvis.display(vis) # for colab"
   ]
  }
 ],
 "metadata": {
  "kernelspec": {
   "display_name": "Python 3",
   "language": "python",
   "name": "python3"
  },
  "language_info": {
   "codemirror_mode": {
    "name": "ipython",
    "version": 3
   },
   "file_extension": ".py",
   "mimetype": "text/x-python",
   "name": "python",
   "nbconvert_exporter": "python",
   "pygments_lexer": "ipython3",
   "version": "3.7.1"
  }
 },
 "nbformat": 4,
 "nbformat_minor": 2
}
